{
 "cells": [
  {
   "cell_type": "markdown",
   "metadata": {
    "deletable": false,
    "editable": false,
    "nbgrader": {
     "cell_type": "markdown",
     "checksum": "8a33f7f18d35505313d496f4127abd74",
     "grade": false,
     "grade_id": "Intro",
     "locked": true,
     "schema_version": 3,
     "solution": false,
     "task": false
    }
   },
   "source": [
    "**Due date is Wednesday, March 10, 2021, 23:59 PST**\n",
    "\n",
    "**ONLY write into the existing cells, and do NOT delete or add any cells.**\n",
    "\n",
    "# ELEC 400M / EECE 571M Assignment 2: Neural networks\n",
    "(This assignment is a modified version of an assignment used in ECE 421 at the University of Toronto and kindly made available to us by the instructor.)\n",
    "\n",
    "In this assignment, you will implement a neural network model for multi-class classification. The purpose is to demonstrate an understanding of the basic elements including training of neural network models. Hence, your implementation will be from scratch only using functions from the NumPy library.\n",
    "\n",
    "The neural network you will be implementing has the following structure:\n",
    "* 1 input layer, 1 hidden layer with ReLU activation and 1 output layer with Softmax function\n",
    "* The loss function is the Cross Entropy Loss.\n",
    "* Training will be done using Gradient Descent with Momentum. "
   ]
  },
  {
   "cell_type": "markdown",
   "metadata": {
    "deletable": false,
    "editable": false,
    "nbgrader": {
     "cell_type": "markdown",
     "checksum": "dc7ef262bb87915b5a92ab9f98d752e3",
     "grade": false,
     "grade_id": "DataSet",
     "locked": true,
     "schema_version": 3,
     "solution": false,
     "task": false
    }
   },
   "source": [
    "## Data Set\n",
    "We again consider the dataset of images of letters in different fonts contained in file notMNIST.npz (which btw is from http://yaroslavvb.blogspot.com/2011/09/notmnist-dataset.html). This time we consider 10 letters (\"A\" to \"J\"), which are all the letters contained in this data set, and we want to classfiy the images according to the letter they display. The figure below shows 30 randomly selected image samples for the letters.\n",
    "\n",
    "<img src=\"sample_images_2.png\" width=\"400\">\n",
    "\n",
    "You will apply the function `loadData` given below to load the data set, which includes 18720 images and their labels, which we also refer to as **targets**. This script organizes the data set into training, validation and test sets. "
   ]
  },
  {
   "cell_type": "code",
   "execution_count": 1,
   "metadata": {
    "deletable": false,
    "editable": false,
    "nbgrader": {
     "cell_type": "code",
     "checksum": "af1861b6e09a7715ff2dcdc3a42f2c6b",
     "grade": false,
     "grade_id": "SetUp",
     "locked": true,
     "schema_version": 3,
     "solution": false,
     "task": false
    }
   },
   "outputs": [],
   "source": [
    "%matplotlib inline\n",
    "import matplotlib.pyplot as plt\n",
    "import numpy as np"
   ]
  },
  {
   "cell_type": "code",
   "execution_count": 2,
   "metadata": {
    "deletable": false,
    "editable": false,
    "nbgrader": {
     "cell_type": "code",
     "checksum": "68c1ebeac7ebb9bb72e3088320c975b3",
     "grade": false,
     "grade_id": "loadData",
     "locked": true,
     "schema_version": 3,
     "solution": false,
     "task": false
    }
   },
   "outputs": [],
   "source": [
    "def loadData():\n",
    "    with np.load('notMNIST.npz') as data:\n",
    "        Data, Target = data['images'], data['labels']\n",
    "        np.random.seed(521)\n",
    "        randIndx = np.arange(len(Data))\n",
    "        np.random.shuffle(randIndx)\n",
    "        Data = Data[randIndx]/255.0\n",
    "        Target = Target[randIndx]\n",
    "        trainData, trainTarget = Data[:15000], Target[:15000]\n",
    "        validData, validTarget = Data[15000:16000], Target[15000:16000]\n",
    "        testData, testTarget = Data[16000:], Target[16000:]\n",
    "       \n",
    "    return trainData, validData, testData, trainTarget, validTarget, testTarget"
   ]
  },
  {
   "cell_type": "markdown",
   "metadata": {
    "deletable": false,
    "editable": false,
    "nbgrader": {
     "cell_type": "markdown",
     "checksum": "e69132009f26cd98119e648e6fd178ed",
     "grade": false,
     "grade_id": "DataPreproc",
     "locked": true,
     "schema_version": 3,
     "solution": false,
     "task": false
    }
   },
   "source": [
    "## Data preprocessing [5 points]\n",
    "\n",
    "Input data: The classification should be based on the $d=28\\times 28=784$ intensity values in an image (as for Assignment 1).\n",
    "\n",
    "Output data: Since you will be performing multi-class classification, the labels will be converted into a one-hot encoding format. \n",
    "\n",
    "Please first briefly explain the meaning of one-hot encoding and why it is used (instead of keeping the numerical label values provided by the data set). State an example for a one-hot encoded label for the data set considered in this assignment. Use the text cell below for this. \n",
    "\n",
    "After that, implement a function that one-hot encodes the labels (or targets) for the training, validation and test sets"
   ]
  },
  {
   "cell_type": "markdown",
   "metadata": {
    "deletable": false,
    "nbgrader": {
     "cell_type": "markdown",
     "checksum": "fbf66cee42a61f4b7dd864089bfe4f48",
     "grade": true,
     "grade_id": "OneHotEncExplain",
     "locked": false,
     "points": 2,
     "schema_version": 3,
     "solution": true,
     "task": false
    }
   },
   "source": [
    "One hot code is used to represent numbers, and letters using 0's and just one 1. This helps us categorize data, there is a need to for data to convert it into a better expression, one of this is one-hot code representation. So for the example above, to represent these letters we will use: (So let A = 0, B = 1, C = 2, ... J = 9)\n",
    "\n",
    "If we are using 10 letters, then we need to have 10 bits\n",
    "\n",
    "Then,\n",
    "\n",
    "A = 1 0 0 0 0 0 0 0 0 0\n",
    "\n",
    "B = 0 1 0 0 0 0 0 0 0 0\n",
    "\n",
    "D = 0 0 0 1 0 0 0 0 0 0\n",
    "\n",
    "J  = 0 0 0 0 0 0 0 0 0 1"
   ]
  },
  {
   "cell_type": "code",
   "execution_count": 3,
   "metadata": {
    "deletable": false,
    "nbgrader": {
     "cell_type": "code",
     "checksum": "1a5f254ce1801a15c82d9b673b44c95e",
     "grade": true,
     "grade_id": "OneHotEncCode",
     "locked": false,
     "points": 3,
     "schema_version": 3,
     "solution": true,
     "task": false
    }
   },
   "outputs": [
    {
     "name": "stdout",
     "output_type": "stream",
     "text": [
      "15000\n",
      "[[5]\n",
      " [9]\n",
      " [9]\n",
      " ...\n",
      " [2]\n",
      " [0]\n",
      " [9]]\n",
      "[[0. 0. 0. ... 0. 0. 0.]\n",
      " [0. 0. 0. ... 0. 0. 1.]\n",
      " [0. 0. 0. ... 0. 0. 1.]\n",
      " ...\n",
      " [0. 0. 1. ... 0. 0. 0.]\n",
      " [1. 0. 0. ... 0. 0. 0.]\n",
      " [0. 0. 0. ... 0. 0. 1.]]\n"
     ]
    }
   ],
   "source": [
    "def convertOneHot(trainTarget, validTarget, testTarget):\n",
    "    # YOUR CODE HERE\n",
    "    n_letters = 10\n",
    "    # Convert trainTarget\n",
    "    trainTarget_OH = np.zeros((len(trainTarget), n_letters))\n",
    "    trainTarget_OH[np.arange(trainTarget.size), trainTarget] = 1\n",
    "    \n",
    "    # Convert validTarget\n",
    "    validTarget_OH = np.zeros((len(validTarget), n_letters))\n",
    "    validTarget_OH[np.arange(validTarget.size),validTarget] = 1\n",
    "    \n",
    "    # Convert testTarget\n",
    "    testTarget_OH  = np.zeros((len(testTarget), n_letters)) \n",
    "    testTarget_OH[np.arange(testTarget.size), testTarget] = 1\n",
    "    \n",
    "    return trainTarget_OH, validTarget_OH, testTarget_OH\n",
    "\n",
    "datas = loadData()\n",
    "#maxIter = 100\n",
    "trainData = datas[0].reshape(15000,-1)\n",
    "trainTarget = datas[3].astype(int)\n",
    "testTarget  = datas[5].astype(int) # this was making the issue ...\n",
    "validTarget = datas[4].astype(int)\n",
    "    \n",
    "print(len(trainTarget))\n",
    "print(trainTarget.reshape(15000,-1)) \n",
    "print(convertOneHot(trainTarget, validTarget, testTarget)[0])"
   ]
  },
  {
   "cell_type": "markdown",
   "metadata": {
    "deletable": false,
    "editable": false,
    "nbgrader": {
     "cell_type": "markdown",
     "checksum": "7c00af71e611d88fe25aad66e458007f",
     "grade": false,
     "grade_id": "Structure",
     "locked": true,
     "schema_version": 3,
     "solution": false,
     "task": false
    }
   },
   "source": [
    "## Structure of the network [2 points]\n",
    "\n",
    "Sketch the structure of the network to classify the letters from the data set. Identify the dimensions of the network layers, include the activation functions, and do not forget the bias nodes. (You may sketch this by hand and upload a photo of your sketch.)"
   ]
  },
  {
   "cell_type": "markdown",
   "metadata": {
    "deletable": false,
    "nbgrader": {
     "cell_type": "markdown",
     "checksum": "8b2c72af679e822ca2a0afb98aa79c6c",
     "grade": true,
     "grade_id": "SketchStructure",
     "locked": false,
     "points": 2,
     "schema_version": 3,
     "solution": true,
     "task": false
    }
   },
   "source": [
    "### MY ANSWER:\n",
    "<img src=\"structure_of_network.png\" width=\"1000\">"
   ]
  },
  {
   "cell_type": "markdown",
   "metadata": {
    "deletable": false,
    "editable": false,
    "nbgrader": {
     "cell_type": "markdown",
     "checksum": "aaa1fe4169289285a4d2715dffa60392",
     "grade": false,
     "grade_id": "HelperFunctions",
     "locked": true,
     "schema_version": 3,
     "solution": false,
     "task": false
    }
   },
   "source": [
    "## Helper functions [6 points]\n",
    "To give the implementation of the network some structure, you will first implement five helper functions. \n",
    "\n",
    "Use Numpy arrays for your implementations, and organize data in vectors and matrices as appropriate for compact programming (i.e., avoid `for` loops).\n",
    "\n",
    "1. `relu`: This function will accept one argument and return the ReLU activation: \n",
    "    $$\\mathrm{ReLU}(x)=\\max(0,x).$$\n",
    "    \n",
    "2. `softmax`: This function will accept one argument and return the softmax activations:\n",
    "    $$ [\\sigma(\\mathbf{z})]_j = \\frac{\\mathrm{e}^{z_j}}{\\sum\\limits_{k=1}^K\\mathrm{e}^{z_k}},$$ $j=1,2,\\ldots, K$,  for $K$ classes.\n",
    "    \n",
    "You may want to program the `relu` and the `softmax` functions that you call them once for all $N$ samples to be processed.    \n",
    "\n",
    "3. `computeLayer`: This function will accept two arguments, the input vectors $\\mathbf{x}^{(\\ell-1)}_n$ and the weight matrix $\\mathbf{W}^{(\\ell)}$ for a layer $\\ell$, and return the vectors $\\mathbf{s}_n^{(\\ell)}=(\\mathbf{W}^{(\\ell)})^T\\mathbf{x}_n^{(\\ell)}$, $n=1,2,\\ldots,N$, i.e., the inputs to the activation function of that layer (the notation for variables from the textbook is used). Don't forget to account for the bias term (which can be included in augmented vectors $\\mathbf{x}^{(\\ell)}_n$ as in the textbook).\n",
    "\n",
    "4. `CE`: This function will accept two arguments, the one-hot encoded labels $\\mathbf{y}_n$ and the inputs $\\mathbf{s}_n$ to the softmax function, $n=1,2,\\ldots, N$. It will return the average cross entropy loss\n",
    "$$\\mathrm{E}_{\\mathrm{in}}=-\\frac{1}{N}\\sum\\limits_{n=1}^N\\sum\\limits_{k=1}^Ky_{n,k}\\log([\\sigma(\\mathbf{s}_n)]_k)$$\n",
    "\n",
    "5. `gradCE`: This function will accept two arguments, the one-hot encoded labels $\\mathbf{y}_n$ and the inputs $\\mathbf{s}_n$ to the softmax function, $n=1,2,\\ldots, N$. It will return the gradients of the cross entropy loss for each data sample with respect to $\\mathbf{s}_n$, i.e., it returns the sensivity vectors for the output layer as introduced in the textbook:\n",
    "$$\\boldsymbol{\\mathbf{\\delta}}^{(L)}_n=\\frac{\\partial e_n}{\\partial \\mathbf{s}_n^{(L)}},\\quad n=1,2,\\ldots,N.$$. \n",
    "\n",
    "First state the analytical expression for the gradient used in `gradCE` and then implement the five helper functions."
   ]
  },
  {
   "cell_type": "markdown",
   "metadata": {
    "deletable": false,
    "nbgrader": {
     "cell_type": "markdown",
     "checksum": "8d337d81b627603dcd7e4d1212b0d8b8",
     "grade": true,
     "grade_id": "gradCEfomula",
     "locked": false,
     "points": 1,
     "schema_version": 3,
     "solution": true,
     "task": false
    }
   },
   "source": [
    "### MY ANSWER:\n",
    "\n",
    "For $$\\boldsymbol{\\mathbf{\\delta}}^{(L)}_n=\\frac{\\partial e_n}{\\partial \\mathbf{s}_n^{(L)}},\\quad n=1,2,\\ldots,N.$$\n",
    " \n",
    "We will use the softmax function and then we will get,\n",
    "$$\\boldsymbol{\\mathbf{\\delta}}^{(L)}_n=\\frac{\\partial e_n}{\\partial \\mathbf{s}_n^{(L)}},\\quad = softmax({S}_n^{(L)}) - y_n $$"
   ]
  },
  {
   "cell_type": "code",
   "execution_count": 4,
   "metadata": {
    "deletable": false,
    "nbgrader": {
     "cell_type": "code",
     "checksum": "08deb980977ef239e27a008454c0abb3",
     "grade": true,
     "grade_id": "relu",
     "locked": false,
     "points": 1,
     "schema_version": 3,
     "solution": true,
     "task": false
    }
   },
   "outputs": [
    {
     "name": "stdout",
     "output_type": "stream",
     "text": [
      "0\n",
      "9\n"
     ]
    }
   ],
   "source": [
    "def relu(x):\n",
    "    # YOUR CODE HERE\n",
    "    return np.maximum(0,x)\n",
    "print(relu(-4))\n",
    "print(relu(9))"
   ]
  },
  {
   "cell_type": "code",
   "execution_count": 5,
   "metadata": {
    "deletable": false,
    "nbgrader": {
     "cell_type": "code",
     "checksum": "9701b180e308041ec0850f728ea409c2",
     "grade": true,
     "grade_id": "softmax",
     "locked": false,
     "points": 1,
     "schema_version": 3,
     "solution": true,
     "task": false
    }
   },
   "outputs": [
    {
     "name": "stdout",
     "output_type": "stream",
     "text": [
      "[[0.11920292 0.26894142 0.88079708]\n",
      " [0.88079708 0.73105858 0.11920292]]\n"
     ]
    }
   ],
   "source": [
    "def softmax(x):    \n",
    "    # YOUR CODE HERE\n",
    "    return np.exp(x)/sum(np.exp(x))\n",
    "\n",
    "print(softmax(np.array([[0,1,2],[2,2,0]])))"
   ]
  },
  {
   "cell_type": "code",
   "execution_count": 6,
   "metadata": {
    "deletable": false,
    "nbgrader": {
     "cell_type": "code",
     "checksum": "efc09c25d2160f6edf0daa186948586d",
     "grade": true,
     "grade_id": "computeLayer",
     "locked": false,
     "points": 1,
     "schema_version": 3,
     "solution": true,
     "task": false
    }
   },
   "outputs": [
    {
     "name": "stdout",
     "output_type": "stream",
     "text": [
      "[[ 6  8 10]]\n"
     ]
    }
   ],
   "source": [
    "def computeLayer(x,W):\n",
    "    # YOUR CODE HERE\n",
    "    return np.dot(W.T,x)\n",
    "print(computeLayer(np.array([[1,2,3],[2,3,4],[4,5,6],[-1,-2,-3]]),np.array([[1],[1],[1],[1]])))"
   ]
  },
  {
   "cell_type": "code",
   "execution_count": 7,
   "metadata": {
    "deletable": false,
    "nbgrader": {
     "cell_type": "code",
     "checksum": "eb143ae296c84ba78f394f98fb8c0f98",
     "grade": true,
     "grade_id": "CE",
     "locked": false,
     "points": 1,
     "schema_version": 3,
     "solution": true,
     "task": false
    }
   },
   "outputs": [],
   "source": [
    "def CE(target, softmaxinput):\n",
    "    # YOUR CODE HERE\n",
    "    N = len(target[0])\n",
    "    return -1/N * (np.sum(np.multiply(target, np.log(10**(-18) + softmax(softmaxinput)))))\n"
   ]
  },
  {
   "cell_type": "code",
   "execution_count": 8,
   "metadata": {
    "deletable": false,
    "nbgrader": {
     "cell_type": "code",
     "checksum": "df034457645dc7e423ae8dbdf9c06160",
     "grade": true,
     "grade_id": "gradCE",
     "locked": false,
     "points": 1,
     "schema_version": 3,
     "solution": true,
     "task": false
    }
   },
   "outputs": [],
   "source": [
    "def gradCE(target, softmaxinput):\n",
    "    # YOUR CODE HERE\n",
    "    return softmax(softmaxinput) - target"
   ]
  },
  {
   "cell_type": "markdown",
   "metadata": {
    "deletable": false,
    "editable": false,
    "nbgrader": {
     "cell_type": "markdown",
     "checksum": "6317d042d67394fbfe312d01568249ec",
     "grade": false,
     "grade_id": "Backprop",
     "locked": true,
     "schema_version": 3,
     "solution": false,
     "task": false
    }
   },
   "source": [
    "## Backpropagation [2 points]\n",
    "\n",
    "The training of the network will be done via backpropagation. First derive the following gradients:\n",
    "1. $\\frac{\\partial E_{\\mathrm{in}}}{\\partial \\mathbf{W}^{\\mathrm{o}}}$, where $\\mathbf{W}^{\\mathrm{o}}$ is the weight matrix of the output layer.\n",
    "\n",
    "2. $\\frac{\\partial E_{\\mathrm{in}}}{\\partial \\mathbf{W}^{\\mathrm{h}}}$, where $\\mathbf{W}^{\\mathrm{h}}$ is the weight matrix of the hidden layer.\n",
    "\n",
    "Write the results using the steps and notation used in the textbook."
   ]
  },
  {
   "cell_type": "markdown",
   "metadata": {
    "deletable": false,
    "nbgrader": {
     "cell_type": "markdown",
     "checksum": "f6cfa472237b23a2bbe3eca66a53be88",
     "grade": true,
     "grade_id": "BackpropExpressions",
     "locked": false,
     "points": 2,
     "schema_version": 3,
     "solution": true,
     "task": false
    }
   },
   "source": [
    "### MY ANSWER:\n",
    "#### 1. \n",
    "We got $\\frac{\\partial E_{\\mathrm{in}}}{\\partial \\mathbf{W}^{\\mathrm{o}}}$\n",
    "where $\\mathbf{W}^{\\mathrm{o}}$ is at the output layer so we can say that:\n",
    "$$\\mathbf{W}^{\\mathrm{o}} = \\mathbf{W}^{\\mathrm{L}}$$ \n",
    "where L is the output's layer number.\n",
    "So we got\n",
    "$\\frac{\\partial E_{\\mathrm{in}}}{\\partial \\mathbf{W}^{\\mathrm{o}}}$ = $\\frac{\\partial E_{\\mathrm{in}}}{\\partial \\mathbf{W}^{\\mathrm{L}}}$ .\n",
    "\n",
    "From the book we got $$\\frac{\\partial E_{\\mathrm{in}}}{\\partial \\mathbf{W}^{\\mathrm{(l)}}} = \\frac{1}{N}\\sum\\limits_{n=1}^N\\frac{\\partial e_{\\mathrm{n}}}{\\partial \\mathbf{W}^{\\mathrm{(l)}}} $$\n",
    "\n",
    "Furthermore, we got this equation for $\\frac{\\partial e_{\\mathrm{n}}}{\\partial \\mathbf{W}^{\\mathrm{(l)}}} = x^{(l-1)}(\\delta^{(l)})^T $\n",
    "\n",
    "where $\\delta^{(l)} = \\theta'(s^{(l)}) ⊗ [W^{(l + 1)}\\delta^{(l + 1)}]^{d^{(l)}}$\n",
    "\n",
    "We know that layer = L, and therefore, we will get:\n",
    "$$ \\delta^{(L)} = \\theta'(s^{(L)}) ⊗ [W^{(L+ 1)}\\delta^{(L+ 1)}]^{d^{(L}}$$\n",
    "\n",
    "Hence, $\\frac{\\partial e_{\\mathrm{n}}}{\\partial \\mathbf{W}^{\\mathrm{(l)}}} = x^{(l-1)}(\\theta'(s^{(L)}) ⊗ [W^{(L+ 1)}\\delta^{(L+ 1)}]^{d^{(L)}})^T $\n",
    "\n",
    "So, \n",
    "$$\\frac{\\partial E_{\\mathrm{in}}}{\\partial \\mathbf{W}^{\\mathrm{(l)}}} = \\frac{1}{N}\\sum\\limits_{n=1}^Nx^{(l-1)}(\\theta'(s^{(L)}) ⊗ [W^{(L+ 1)}\\delta^{(L+ 1)}]^{d^{(L)}})^T $$\n",
    "\n",
    "Where $\\frac{\\partial e_{\\mathrm{n}}}{\\partial \\mathbf{W}^{\\mathrm{(L}}} = \\delta^{(L)}_n $ is a Sensitivity Factor.\n",
    "\n",
    "#### 2. \n",
    "We got $\\frac{\\partial E_{\\mathrm{in}}}{\\partial \\mathbf{W}^{\\mathrm{h}}}$ where $\\mathbf{W}^{\\mathrm{h}}$ is at the hidden layer so we can say that: \n",
    "$0 < l < L$\n",
    "$$\\mathbf{W}^{\\mathrm{h}} = \\mathbf{W}^{\\mathrm{l}}$$ \n",
    "where l is the hidden layer's layer number.\n",
    "So we got the same equations following above. Finally we will get:\n",
    "$$\\frac{\\partial E_{\\mathrm{in}}}{\\partial \\mathbf{W}^{\\mathrm{(l)}}} = \\frac{1}{N}\\sum\\limits_{n=1}^Nx^{(l-1)}(\\theta'(s^{(L)}) ⊗ [W^{(l+ 1)}\\delta^{(l+ 1)}]^{d^{(l)}})^T $$"
   ]
  },
  {
   "cell_type": "markdown",
   "metadata": {
    "deletable": false,
    "editable": false,
    "nbgrader": {
     "cell_type": "markdown",
     "checksum": "b782609d11f591ab2c04ed369b794f4a",
     "grade": false,
     "grade_id": "NetworkTraining",
     "locked": true,
     "schema_version": 3,
     "solution": false,
     "task": false
    }
   },
   "source": [
    "## Network training [8 points]\n",
    "\n",
    "Implement a function to train the network. The function uses the helper functions from above. The optimization technique for backpropagation will be Gradient Descent with Momentum (i.e., we consider batch gradient descent, using all data samples for computing the gradient):\n",
    "$$\\mathbf{V}(t)=\\alpha \\mathbf{V}(t-1)-\\eta\\frac{\\partial E_{\\mathrm{in}}}{\\partial \\mathbf{W}(t)}$$\n",
    "and \n",
    "$$\\mathbf{W}(t+1)=\\mathbf{W}(t)+\\mathbf{V}(t),$$\n",
    "where $\\eta$ is the learning rate and $\\alpha$ is the momentum hyperparameter.\n",
    "\n",
    "The training function accepts the following inputs:  training data (features), training labels (targets), weight matrix of the hidden layer, weight matrix of the output layer, number of iterations (which is equal to the number of epochs as we consider batch gradient descent), parameters $\\eta$ and $\\alpha$, validation data, validation labels, test data, test labels. The validation and test inputs are initialized to \"None\" and need not be passed on. You will also need to initialize the velocity matrices $\\mathbf{V}$ for both hidden layer and output layer weights to small values, e.g. $10^{-5}%$.\n",
    "\n",
    "The function outputs the updated weight matrices after training, the CE loss and the classification accuracy for the training data as a function of the iteration, and if validation and test inputs were provided, then it also outputs the classification accuracies for the validation and test data as functions of the iteration,."
   ]
  },
  {
   "cell_type": "code",
   "execution_count": 25,
   "metadata": {
    "deletable": false,
    "nbgrader": {
     "cell_type": "code",
     "checksum": "e7fc79888b799d046903419fc99a622f",
     "grade": true,
     "grade_id": "NetworkTrainingCode",
     "locked": false,
     "points": 8,
     "schema_version": 3,
     "solution": true,
     "task": false
    }
   },
   "outputs": [],
   "source": [
    "# YOUR CODE HERE\n",
    "#naming \n",
    "#w_h = hidden weight vectors\n",
    "#w_o _ output weight vectors\n",
    "#H = hidden\n",
    "#O = output\n",
    "def forwardPropagation(x, y, w_h, w_o):\n",
    "    x_l_0 = np.append(np.ones((x.shape[0],1)), x, axis=1).T\n",
    "    s_l_1 = computeLayer(x_l_0, w_h)\n",
    "    relu_mat = relu(s_l_1)\n",
    "    #First layer is done x -> hidden\n",
    "    #Now activation function so ReLU\n",
    "\n",
    "    #We know need to use output weight vectors\n",
    "    x_l_1 = (np.append(np.ones((1, relu_mat.shape[1])), relu_mat, axis=0))\n",
    "    s_l_2 = computeLayer(x_l_1, w_o)\n",
    "    x_out = softmax(s_l_2)\n",
    "\n",
    "    CE_loss = CE(y.T,s_l_2)\n",
    "\n",
    "    return x_out, CE_loss\n",
    "def network_training(x, y, w_h, w_o,alpha,nu,epochs, validationData,testData,validationTarget,testTarget): \n",
    "    \n",
    "    #Momentum vector 1\n",
    "    V_l_1 = 0.00001 * (np.ones([w_h.shape[0],w_h.shape[1]]))\n",
    "    \n",
    "    #Momentum vector 2\n",
    "    V_l_2 = 0.00001 * (np.ones([w_o.shape[0],w_o.shape[1]]))  \n",
    "    \n",
    "    #Accuracy list\n",
    "    trainingDataAccuracy = np.zeros(shape = (epochs,1))\n",
    "    validationDataAccuracy = np.zeros(shape = (epochs,1))\n",
    "    testDataAccuracy = np.zeros(shape = (epochs,1))\n",
    "    \n",
    "    #Loss\n",
    "    CE_loss_training = np.zeros(shape =(epochs,1))\n",
    "    CE_loss_validation = np.zeros(shape =(epochs,1))\n",
    "    CE_loss_test= np.zeros(shape =(epochs,1))\n",
    "    \n",
    "    i = 0 #iterations\n",
    "    while(i < epochs):\n",
    "        ##FORWARD PROPAGATION\n",
    "        x_l_0 = np.append(np.ones((x.shape[0],1)), x, axis=1).T\n",
    "        s_l_1 = computeLayer(x_l_0, w_h)\n",
    "        relu_mat = relu(s_l_1)\n",
    "        #First layer is done x -> hidden\n",
    "        #Now activation function so ReLU\n",
    "\n",
    "        #We know need to use output weight vectors\n",
    "        x_l_1 = (np.append(np.ones((1, relu_mat.shape[1])), relu_mat, axis=0))\n",
    "        s_l_2 = computeLayer(x_l_1, w_o)\n",
    "        x_out = softmax(s_l_2)\n",
    "\n",
    "        ## BACKPROPAGATION\n",
    "\n",
    "        #Initialization\n",
    "        #At the hidden layer L = 1\n",
    "        de_dxl_1 = np.dot(w_o[1:,:], gradCE(y.T,s_l_2))\n",
    "        d_relu   = (s_l_1 > 0).astype(int)\n",
    "        sensitivity_L_1 = np.multiply(d_relu, de_dxl_1)\n",
    "    \n",
    "        dE_dWl_1 = np.dot(x_l_0 , sensitivity_L_1.T)\n",
    "        V_l_1 = alpha*V_l_1 - nu*dE_dWl_1\n",
    "        w_h = w_h + V_l_1\n",
    "\n",
    "        #At the output layer L = 2, gradCE is the derivative of the softmax\n",
    "        sensitivity_L_2 = gradCE(y.T, s_l_2)\n",
    "        dE_dWl_2  = np.dot(x_l_1 , sensitivity_L_2.T)\n",
    "        V_l_2 = alpha*V_l_2 - nu*dE_dWl_2\n",
    "        w_o = w_o + V_l_2\n",
    "  \n",
    "        #Backpropagation is done let's look at the CE loss\n",
    "        \n",
    "        #Data's accuracy and loss by each training set\n",
    "        X_validation, CE_loss_validation[i]=forwardPropagation(validationData, validationTarget, w_h, w_o)\n",
    "        validationDataAccuracy[i] = accuracy(X_validation, validationTarget)\n",
    "        \n",
    "        CE_loss_training[i] = CE(y.T, s_l_2)\n",
    "        trainingDataAccuracy[i] = accuracy(x_out, y)\n",
    "        \n",
    "        X_test, CE_loss_test[i] = forwardPropagation(testData, testTarget, w_h, w_o)\n",
    "        testDataAccuracy[i] = accuracy(X_test, testTarget)\n",
    "        \n",
    "        #print(\"Epoch = \", i)\n",
    "        \n",
    "        i = i + 1\n",
    "        \n",
    "    return w_h, w_o, trainingDataAccuracy, validationDataAccuracy, testDataAccuracy, CE_loss_training, CE_loss_validation, CE_loss_test\n",
    "\n",
    "def accuracy(x_out, targetData):\n",
    "    return np.sum((np.argmax(x_out, axis = 0) == np.argmax(targetData.T, axis = 0)))/targetData.shape[0]\n",
    "  "
   ]
  },
  {
   "cell_type": "markdown",
   "metadata": {
    "deletable": false,
    "editable": false,
    "nbgrader": {
     "cell_type": "markdown",
     "checksum": "6104a1ca1d55f8a133c14b222d79770f",
     "grade": false,
     "grade_id": "Network",
     "locked": true,
     "schema_version": 3,
     "solution": false,
     "task": false
    }
   },
   "source": [
    "## Network test [4 points]\n",
    "\n",
    "Write a script that constructs the neural network.\n",
    "\n",
    "Initialize your weight matrices by drawing the elements i.i.d. at random from a zero-mean Gaussian distribution with variance equal to $$\\sigma_w^2=\\frac{2}{\\mbox{# of input nodes + # of output nodes}}$$ (Xavier normalization http://proceedings.mlr.press/v9/glorot10a/glorot10a.pdf) \n",
    "\n",
    "Build a network with 1000 hidden units and train it for 200 iterations ($=$epochs) using $\\alpha=0.9$ and $\\eta=10^{-5}$. Plot the training, validation and testing accuracy curves (i.e., accuracy as a function of iteration). State the final training, validation and testing accuracies after training. Show the plot and state the final accuracies in the next text cell."
   ]
  },
  {
   "cell_type": "code",
   "execution_count": 26,
   "metadata": {
    "deletable": false,
    "nbgrader": {
     "cell_type": "code",
     "checksum": "f1fbdb448e6ebcecc2b7551553dca4c5",
     "grade": true,
     "grade_id": "NetworkCode",
     "locked": false,
     "points": 2,
     "schema_version": 3,
     "solution": true,
     "task": false
    }
   },
   "outputs": [
    {
     "data": {
      "image/png": "[encoded data removed]",
      "text/plain": [
       "<Figure size 432x288 with 1 Axes>"
      ]
     },
     "metadata": {
      "needs_background": "light"
     },
     "output_type": "display_data"
    },
    {
     "data": {
      "image/png": "[encoded data removed]",
      "text/plain": [
       "<Figure size 432x288 with 1 Axes>"
      ]
     },
     "metadata": {
      "needs_background": "light"
     },
     "output_type": "display_data"
    }
   ],
   "source": [
    "# YOUR CODE HERE\n",
    "hidden_units = 1000\n",
    "input_units = 784\n",
    "output_units = 10\n",
    "epochs = 200\n",
    "alpha = 0.9\n",
    "nu    = 0.00001\n",
    "# YOUR CODE HERE\n",
    "datas = loadData()\n",
    "testData = datas[2].reshape(datas[2].shape[0], -1)\n",
    "trainData = datas[0].reshape(datas[0].shape[0], -1)\n",
    "validData = datas[1].reshape(datas[1].shape[0], -1)\n",
    "\n",
    "\n",
    "#Convert to One Hot\n",
    "trainTarget_OH, validTarget_OH, testTarget_OH = convertOneHot(trainTarget, validTarget, testTarget)\n",
    "\n",
    "#Xavier normalization \n",
    "var_sigma_h = np.sqrt(2/(input_units + hidden_units))\n",
    "var_sigma_o = np.sqrt(2/(hidden_units + output_units))\n",
    "#print(\"var sigma_h is = \", var_sigma_h)\n",
    "#print(\"var sigma_o is = \", var_sigma_o)\n",
    "\n",
    "#Identify the weight vectors\n",
    "w_h = np.random.normal(loc=0, scale=var_sigma_h, size = (input_units+1, hidden_units))\n",
    "w_o = np.random.normal(loc=0, scale=var_sigma_o, size = (hidden_units+1, output_units))\n",
    "\n",
    "#print(\"w_h is = \\n\", w_h, \"and the shape of w_h is =\", w_h.shape)\n",
    "#print(\"w_o is = \\n\", w_o, \"and the shape of w_o is =\", w_o.shape)\n",
    "\n",
    "w_h, w_o, trainingDataAccuracy, validationDataAccuracy, testDataAccuracy, CE_loss_training, CE_loss_validation, CE_loss_test = network_training(trainData, trainTarget_OH, w_h, w_o,alpha,nu,epochs, validData,testData,validTarget_OH,testTarget_OH)\n",
    "\n",
    "\n",
    "#Plot the accuracies\n",
    "plt.plot(trainingDataAccuracy, \"-g\", label = \"Training set\")\n",
    "plt.plot(validationDataAccuracy, \"-r\", label = \"Validation set\")\n",
    "plt.plot(testDataAccuracy, \"-b\", label = \"Test set\")\n",
    "plt.ylabel(\"Accuracy\")\n",
    "plt.xlabel(\"# of epochs\")\n",
    "plt.legend(loc = \"lower right\")\n",
    "plt.show()\n",
    "\n",
    "#Plot the loss\n",
    "plt.plot(CE_loss_training, \"-g\", label = \"Training set\")\n",
    "plt.plot(CE_loss_validation, \"-r\", label = \"Validation set\")\n",
    "plt.plot(CE_loss_test, \"-b\", label = \"Test set\")\n",
    "plt.ylabel(\"Loss\")\n",
    "plt.xlabel(\"# of epochs\")\n",
    "plt.legend(loc = \"upper right\")\n",
    "plt.show()\n",
    "\n",
    "\n",
    "\n",
    "\n"
   ]
  },
  {
   "cell_type": "markdown",
   "metadata": {
    "deletable": false,
    "nbgrader": {
     "cell_type": "markdown",
     "checksum": "f26a4c69de4bb177cb2bbd3a06d9e9a9",
     "grade": true,
     "grade_id": "Results",
     "locked": false,
     "points": 2,
     "schema_version": 3,
     "solution": true,
     "task": false
    }
   },
   "source": [
    "### MY ANSWER:\n",
    "#### For accuracy:\n",
    "As you see below the graph of $ Accuracy $ vs $  epochs $ is given:\n",
    "<img src=\"1000hidden_units.png\" width=\"600\">\n",
    "By looking at the graph we can say that:\n",
    "### @1000 Hidden Units\n",
    "##### Training set Accuracy     = 97.99%\n",
    "##### Validation set Accuracy  = 93.30%\n",
    "##### Test set Accuracy            = 92.18%\n",
    "\n",
    "By looking at the $ Cross Entropy $ vs $ epochs $ we get the losses of each data set. Below illustrates this graph:\n",
    "<img src=\"1000hidden_units_loss.png\" width=\"600\">\n",
    "\n"
   ]
  },
  {
   "cell_type": "markdown",
   "metadata": {
    "deletable": false,
    "editable": false,
    "nbgrader": {
     "cell_type": "markdown",
     "checksum": "c9b403d60990c9d5d999878e802842b5",
     "grade": false,
     "grade_id": "Hyperpara",
     "locked": true,
     "schema_version": 3,
     "solution": false,
     "task": false
    }
   },
   "source": [
    "## Hyperparameter investigation [3 points]\n",
    "\n",
    "Continue to use $\\alpha=0.9$ and $\\eta=10^{-5}$.\n",
    "\n",
    "Test your network with 500 and 1500 hidden nodes and train for 200 epochs. Comment based on the validation accuracy after how many epochs training could be terminated early. \n",
    "\n",
    "Plot the training and validation accuracy curves for all three network sizes (500, 1000, 1500) and 200 training epochs, and report the test accuracy for your selected network size and training length. Show the plots and state the final accuracies in the next text cell."
   ]
  },
  {
   "cell_type": "code",
   "execution_count": 28,
   "metadata": {
    "deletable": false,
    "nbgrader": {
     "cell_type": "code",
     "checksum": "58b16b50f61f0c84aa9ab54a21ade230",
     "grade": true,
     "grade_id": "HyperparaTest",
     "locked": false,
     "points": 0,
     "schema_version": 3,
     "solution": true,
     "task": false
    }
   },
   "outputs": [
    {
     "name": "stdout",
     "output_type": "stream",
     "text": [
      " 500 Hidden Units \n"
     ]
    },
    {
     "data": {
      "image/png": "[encoded data removed]",
      "text/plain": [
       "<Figure size 432x288 with 1 Axes>"
      ]
     },
     "metadata": {
      "needs_background": "light"
     },
     "output_type": "display_data"
    },
    {
     "data": {
      "image/png": "[encoded data removed]",
      "text/plain": [
       "<Figure size 432x288 with 1 Axes>"
      ]
     },
     "metadata": {
      "needs_background": "light"
     },
     "output_type": "display_data"
    },
    {
     "name": "stdout",
     "output_type": "stream",
     "text": [
      " 1000 Hidden Units \n"
     ]
    },
    {
     "data": {
      "image/png": "[encoded data removed]",
      "text/plain": [
       "<Figure size 432x288 with 1 Axes>"
      ]
     },
     "metadata": {
      "needs_background": "light"
     },
     "output_type": "display_data"
    },
    {
     "data": {
      "image/png": "[encoded data removed]",
      "text/plain": [
       "<Figure size 432x288 with 1 Axes>"
      ]
     },
     "metadata": {
      "needs_background": "light"
     },
     "output_type": "display_data"
    },
    {
     "name": "stdout",
     "output_type": "stream",
     "text": [
      " 1500 Hidden Units \n"
     ]
    },
    {
     "data": {
      "image/png": "[encoded data removed]",
      "text/plain": [
       "<Figure size 432x288 with 1 Axes>"
      ]
     },
     "metadata": {
      "needs_background": "light"
     },
     "output_type": "display_data"
    },
    {
     "data": {
      "image/png": "[encoded data removed]",
      "text/plain": [
       "<Figure size 432x288 with 1 Axes>"
      ]
     },
     "metadata": {
      "needs_background": "light"
     },
     "output_type": "display_data"
    }
   ],
   "source": [
    "# YOUR CODE HERE\n",
    "\n",
    "print(\" 500 Hidden Units \")\n",
    "\n",
    "hidden_units = 500\n",
    "input_units = 784\n",
    "output_units = 10\n",
    "epochs = 200\n",
    "alpha = 0.9\n",
    "nu    = 0.00001\n",
    "# YOUR CODE HERE\n",
    "datas = loadData()\n",
    "testData = datas[2].reshape(datas[2].shape[0], -1)\n",
    "trainData = datas[0].reshape(datas[0].shape[0], -1)\n",
    "validData = datas[1].reshape(datas[1].shape[0], -1)\n",
    "\n",
    "\n",
    "#Convert to One Hot\n",
    "trainTarget_OH, validTarget_OH, testTarget_OH = convertOneHot(trainTarget, validTarget, testTarget)\n",
    "\n",
    "#Xavier normalization \n",
    "var_sigma_h = np.sqrt(2/(input_units + hidden_units))\n",
    "var_sigma_o = np.sqrt(2/(hidden_units + output_units))\n",
    "#print(\"var sigma_h is = \", var_sigma_h)\n",
    "#print(\"var sigma_o is = \", var_sigma_o)\n",
    "\n",
    "#Identify the weight vectors\n",
    "w_h = np.random.normal(loc=0, scale=var_sigma_h, size = (input_units+1, hidden_units))\n",
    "w_o = np.random.normal(loc=0, scale=var_sigma_o, size = (hidden_units+1, output_units))\n",
    "\n",
    "#print(\"w_h is = \\n\", w_h, \"and the shape of w_h is =\", w_h.shape)\n",
    "#print(\"w_o is = \\n\", w_o, \"and the shape of w_o is =\", w_o.shape)\n",
    "\n",
    "w_h, w_o, trainingDataAccuracy, validationDataAccuracy, testDataAccuracy, CE_loss_training, CE_loss_validation, CE_loss_test = network_training(trainData, trainTarget_OH, w_h, w_o,alpha,nu,epochs, validData,testData,validTarget_OH,testTarget_OH)\n",
    "\n",
    "\n",
    "#Plot the accuracies\n",
    "plt.plot(trainingDataAccuracy, \"-g\", label = \"Training set\")\n",
    "plt.plot(validationDataAccuracy, \"-r\", label = \"Validation set\")\n",
    "plt.plot(testDataAccuracy, \"-b\", label = \"Test set\")\n",
    "plt.ylabel(\"Accuracy\")\n",
    "plt.xlabel(\"# of epochs\")\n",
    "plt.legend(loc = \"lower right\")\n",
    "plt.show()\n",
    "\n",
    "#Plot the loss\n",
    "plt.plot(CE_loss_training, \"-g\", label = \"Training set\")\n",
    "plt.plot(CE_loss_validation, \"-r\", label = \"Validation set\")\n",
    "plt.plot(CE_loss_test, \"-b\", label = \"Test set\")\n",
    "plt.ylabel(\"Loss\")\n",
    "plt.xlabel(\"# of epochs\")\n",
    "plt.legend(loc = \"upper right\")\n",
    "plt.show()\n",
    "\n",
    "### 500 Units Done\n",
    "\n",
    "print(\" 1000 Hidden Units \")\n",
    "\n",
    "hidden_units = 1000\n",
    "input_units = 784\n",
    "output_units = 10\n",
    "epochs = 200\n",
    "alpha = 0.9\n",
    "nu    = 0.00001\n",
    "# YOUR CODE HERE\n",
    "datas = loadData()\n",
    "testData = datas[2].reshape(datas[2].shape[0], -1)\n",
    "trainData = datas[0].reshape(datas[0].shape[0], -1)\n",
    "validData = datas[1].reshape(datas[1].shape[0], -1)\n",
    "\n",
    "\n",
    "#Convert to One Hot\n",
    "trainTarget_OH, validTarget_OH, testTarget_OH = convertOneHot(trainTarget, validTarget, testTarget)\n",
    "\n",
    "#Xavier normalization \n",
    "var_sigma_h = np.sqrt(2/(input_units + hidden_units))\n",
    "var_sigma_o = np.sqrt(2/(hidden_units + output_units))\n",
    "#print(\"var sigma_h is = \", var_sigma_h)\n",
    "#print(\"var sigma_o is = \", var_sigma_o)\n",
    "\n",
    "#Identify the weight vectors\n",
    "w_h = np.random.normal(loc=0, scale=var_sigma_h, size = (input_units+1, hidden_units))\n",
    "w_o = np.random.normal(loc=0, scale=var_sigma_o, size = (hidden_units+1, output_units))\n",
    "\n",
    "#print(\"w_h is = \\n\", w_h, \"and the shape of w_h is =\", w_h.shape)\n",
    "#print(\"w_o is = \\n\", w_o, \"and the shape of w_o is =\", w_o.shape)\n",
    "\n",
    "w_h, w_o, trainingDataAccuracy, validationDataAccuracy, testDataAccuracy, CE_loss_training, CE_loss_validation, CE_loss_test = network_training(trainData, trainTarget_OH, w_h, w_o,alpha,nu,epochs, validData,testData,validTarget_OH,testTarget_OH)\n",
    "\n",
    "\n",
    "#Plot the accuracies\n",
    "plt.plot(trainingDataAccuracy, \"-g\", label = \"Training set\")\n",
    "plt.plot(validationDataAccuracy, \"-r\", label = \"Validation set\")\n",
    "plt.plot(testDataAccuracy, \"-b\", label = \"Test set\")\n",
    "plt.ylabel(\"Accuracy\")\n",
    "plt.xlabel(\"# of epochs\")\n",
    "plt.legend(loc = \"lower right\")\n",
    "plt.show()\n",
    "\n",
    "#Plot the loss\n",
    "plt.plot(CE_loss_training, \"-g\", label = \"Training set\")\n",
    "plt.plot(CE_loss_validation, \"-r\", label = \"Validation set\")\n",
    "plt.plot(CE_loss_test, \"-b\", label = \"Test set\")\n",
    "plt.ylabel(\"Loss\")\n",
    "plt.xlabel(\"# of epochs\")\n",
    "plt.legend(loc = \"upper right\")\n",
    "plt.show()\n",
    "\n",
    "##1000 Units Done\n",
    "\n",
    "\n",
    "print(\" 1500 Hidden Units \")\n",
    "\n",
    "hidden_units = 1500\n",
    "input_units = 784\n",
    "output_units = 10\n",
    "epochs = 200\n",
    "alpha = 0.9\n",
    "nu    = 0.00001\n",
    "# YOUR CODE HERE\n",
    "datas = loadData()\n",
    "testData = datas[2].reshape(datas[2].shape[0], -1)\n",
    "trainData = datas[0].reshape(datas[0].shape[0], -1)\n",
    "validData = datas[1].reshape(datas[1].shape[0], -1)\n",
    "\n",
    "\n",
    "#Convert to One Hot\n",
    "trainTarget_OH, validTarget_OH, testTarget_OH = convertOneHot(trainTarget, validTarget, testTarget)\n",
    "\n",
    "#Xavier normalization \n",
    "var_sigma_h = np.sqrt(2/(input_units + hidden_units))\n",
    "var_sigma_o = np.sqrt(2/(hidden_units + output_units))\n",
    "#print(\"var sigma_h is = \", var_sigma_h)\n",
    "#print(\"var sigma_o is = \", var_sigma_o)\n",
    "\n",
    "#Identify the weight vectors\n",
    "w_h = np.random.normal(loc=0, scale=var_sigma_h, size = (input_units+1, hidden_units))\n",
    "w_o = np.random.normal(loc=0, scale=var_sigma_o, size = (hidden_units+1, output_units))\n",
    "\n",
    "#print(\"w_h is = \\n\", w_h, \"and the shape of w_h is =\", w_h.shape)\n",
    "#print(\"w_o is = \\n\", w_o, \"and the shape of w_o is =\", w_o.shape)\n",
    "\n",
    "w_h, w_o, trainingDataAccuracy, validationDataAccuracy, testDataAccuracy, CE_loss_training, CE_loss_validation, CE_loss_test = network_training(trainData, trainTarget_OH, w_h, w_o,alpha,nu,epochs, validData,testData,validTarget_OH,testTarget_OH)\n",
    "\n",
    "\n",
    "#Plot the accuracies\n",
    "plt.plot(trainingDataAccuracy, \"-g\", label = \"Training set\")\n",
    "plt.plot(validationDataAccuracy, \"-r\", label = \"Validation set\")\n",
    "plt.plot(testDataAccuracy, \"-b\", label = \"Test set\")\n",
    "plt.ylabel(\"Accuracy\")\n",
    "plt.xlabel(\"# of epochs\")\n",
    "plt.legend(loc = \"lower right\")\n",
    "plt.show()\n",
    "\n",
    "#Plot the loss\n",
    "plt.plot(CE_loss_training, \"-g\", label = \"Training set\")\n",
    "plt.plot(CE_loss_validation, \"-r\", label = \"Validation set\")\n",
    "plt.plot(CE_loss_test, \"-b\", label = \"Test set\")\n",
    "plt.ylabel(\"Loss\")\n",
    "plt.xlabel(\"# of epochs\")\n",
    "plt.legend(loc = \"upper right\")\n",
    "plt.show()\n"
   ]
  },
  {
   "cell_type": "markdown",
   "metadata": {
    "deletable": false,
    "nbgrader": {
     "cell_type": "markdown",
     "checksum": "d2d8de9ace078f8685a691b294b035f0",
     "grade": true,
     "grade_id": "HyperparaResults",
     "locked": false,
     "points": 3,
     "schema_version": 3,
     "solution": true,
     "task": false
    }
   },
   "source": [
    "### MY ANSWER:\n",
    "We have the graph of 500 units as seen below:\n",
    "<img src=\"500hidden_units.png\" width=\"600\">\n",
    "## @500 Hidden units:\n",
    "##### Training set Accuracy     = 97.325%\n",
    "##### Validation set Accuracy  = 93.00%\n",
    "##### Test set Accuracy            = 91.52%\n",
    "\n",
    "Below you can find the information about the test for 1500 hidden units.\n",
    "<img src=\"1000hidden_units.png\" width=\"600\">\n",
    "## @1000 Hidden Units\n",
    "##### Training set Accuracy     = 97.99%\n",
    "##### Validation set Accuracy  = 93.30%\n",
    "##### Test set Accuracy            = 92.18%\n",
    "\n",
    "Below you can find the information about the test for 1500 hidden units.\n",
    "<img src=\"1500hidden_units.png\" width=\"600\">\n",
    "## @1500 Hidden units:\n",
    "##### Training set Accuracy     = 97.96%\n",
    "##### Validation set Accuracy  = 93.10%\n",
    "##### Test set Accuracy            = 91.55%\n",
    "\n",
    "The above represent the accuracy rates at Epochs = @200. However, we need to show the early termination for Validation accuracy, and these are:\n",
    "## @500 Hidden units:\n",
    "@epoch $ 193 $ We got the highest validation accuracy which is $ \\%93.1 $ \n",
    "## @1000 Hidden Units:\n",
    "@epoch $ 182 $ We got the highest validation accuracy which is $ \\%93.5 $ \n",
    "## @1500 Hidden Units:\n",
    "@epoch $ 188 $ We got the highest validation accuracy which is $ \\%93.4 $ "
   ]
  }
 ],
 "metadata": {
  "kernelspec": {
   "display_name": "Python 3",
   "language": "python",
   "name": "python3"
  },
  "language_info": {
   "codemirror_mode": {
    "name": "ipython",
    "version": 3
   },
   "file_extension": ".py",
   "mimetype": "text/x-python",
   "name": "python",
   "nbconvert_exporter": "python",
   "pygments_lexer": "ipython3",
   "version": "3.7.3"
  }
 },
 "nbformat": 4,
 "nbformat_minor": 2
}

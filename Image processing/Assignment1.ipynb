{
 "cells": [
  {
   "cell_type": "markdown",
   "metadata": {
    "deletable": false,
    "editable": false,
    "nbgrader": {
     "cell_type": "markdown",
     "checksum": "7b7a29b375721396ebbea159b3b210aa",
     "grade": false,
     "grade_id": "Intro",
     "locked": true,
     "schema_version": 3,
     "solution": false,
     "task": false
    }
   },
   "source": [
    "**Due date is Wednesday, February 17, 2021, 23:59 PST**\n",
    "\n",
    "**ONLY write into the existing cells, and do NOT add any cells.**\n",
    "\n",
    "# ELEC 400M / EECE 571M Assignment 1: Linear models for classification\n",
    "(This assignment is a modified version of an assignment used in ECE 421 at the University of Toronto and kindly made available to us by the instructor.)\n",
    "\n",
    "In this assignment, you will be using linear models discussed in the lectures to perform a binary classification task. You will compare the performances of linear classification and logistic regression using suitable training algorithms. The implementation will be done in python using functions from the **NumPy** library. Please use **NumPy arrays** as data structures.\n",
    "\n",
    "## Data Set\n",
    "We consider the dataset of images of letters contained in file notMNIST.npz. In particular, you will use a smaller dataset that only contains the images from two letter classes: “C” (the positive class) and “J” (the negative class). The images are of size 28 × 28 pixels. The figure below shows 20 randomly selected image samples for the letters “C” and “J”.\n",
    "\n",
    "<img src=\"sample_images.png\" width=\"400\">\n",
    "\n",
    "You will apply the function `loadData` to generate the subset of images containing only letters “C” and “J”. This script organizes the total set of 3,745 images into smaller subsets containing 3,500 training images, 100 validation images and 145 test images. Their use will be further specified in the problem descriptions below.\n",
    "\n",
    "Execute the two helper scripts provided below."
   ]
  },
  {
   "cell_type": "code",
   "execution_count": 3,
   "metadata": {
    "deletable": false,
    "editable": false,
    "nbgrader": {
     "cell_type": "code",
     "checksum": "93399949d8e1d624b7e3d4664d94e73e",
     "grade": false,
     "grade_id": "get_started",
     "locked": true,
     "schema_version": 3,
     "solution": false,
     "task": false
    },
    "scrolled": true
   },
   "outputs": [
    {
     "name": "stdout",
     "output_type": "stream",
     "text": [
      "Once deleted, variables cannot be recovered. Proceed (y/[n])? y\n"
     ]
    }
   ],
   "source": [
    "%reset\n",
    "%matplotlib inline\n",
    "import matplotlib.pyplot as plt\n",
    "import numpy as np"
   ]
  },
  {
   "cell_type": "code",
   "execution_count": 4,
   "metadata": {
    "deletable": false,
    "editable": false,
    "nbgrader": {
     "cell_type": "code",
     "checksum": "e510dbfd96e59225033ce7813d87f4b0",
     "grade": false,
     "grade_id": "loadData_function",
     "locked": true,
     "schema_version": 3,
     "solution": false,
     "task": false
    }
   },
   "outputs": [],
   "source": [
    "def loadData():\n",
    "    with np.load('notMNIST.npz') as data:\n",
    "        Data, Target = data['images'], data['labels']\n",
    "        posClass = 2\n",
    "        negClass = 9\n",
    "        dataIndx = (Target==posClass) + (Target==negClass)\n",
    "        Data = Data[dataIndx]/255.0\n",
    "        Target = Target[dataIndx].reshape(-1, 1)\n",
    "        Target[Target==posClass] = 1\n",
    "        Target[Target==negClass] = 0\n",
    "        np.random.seed(1)\n",
    "        randIndx = np.arange(len(Data))\n",
    "        np.random.shuffle(randIndx)\n",
    "        Data, Target = Data[randIndx], Target[randIndx]\n",
    "        trainData, trainTarget = Data[:3500], Target[:3500]\n",
    "        validData, validTarget = Data[3500:3600], Target[3500:3600]\n",
    "        testData, testTarget = Data[3600:], Target[3600:]\n",
    "           \n",
    "    return trainData, validData, testData, trainTarget, validTarget, testTarget"
   ]
  },
  {
   "cell_type": "markdown",
   "metadata": {
    "deletable": false,
    "editable": false,
    "nbgrader": {
     "cell_type": "markdown",
     "checksum": "d173fe8bab6521a53fbc2ac2e376a7cb",
     "grade": false,
     "grade_id": "Linear_Classification",
     "locked": true,
     "schema_version": 3,
     "solution": false,
     "task": false
    }
   },
   "source": [
    "## Linear Classification\n",
    "\n",
    "The first classifier is the linear classifier \n",
    "$$\\hat{y}=\\mathrm{sign}\\left(\\sum_{i=0}^dw_ix_i\\right)\\,$$\n",
    "where $x_0=1$ so that $b=w_0x_0$ is the bias term and $x_1,\\ldots, x_d$ are the input features.\n",
    "The loss function for an input-output pair $(\\underline{x}_n,y_n)$ and given model parameters $\\underline{w}$ is \n",
    "$$L_n(\\underline{w})= \\mathbf{1}\\{\\hat{y}_n\\neq y_n\\}\\;.$$\n",
    "The total loss for $N$ samples is \n",
    "$$L(\\underline{w})= \\frac{1}{N}\\sum\\limits_{n=1}^N\\mathbf{1}\\{\\hat{y}_n\\neq y_n\\}\\;.$$\n",
    "\n",
    "\n",
    "\n",
    "### Notes on classification\n",
    "* The classification should be based on the $d=28\\times 28=784$ intensity values in an image. This means that you need to flatten the 2D images to 1D input vectors $\\underline{x}$ of length 784.\n",
    "* The outputs $\\hat{y}$ of the perceptron model are from $\\{-1,+1\\}$, while the target variable from the data set is from $\\{0,1\\}$. You need to make adjustements to account for this difference, which can include adjusting the data type."
   ]
  },
  {
   "cell_type": "markdown",
   "metadata": {
    "deletable": false,
    "editable": false,
    "nbgrader": {
     "cell_type": "markdown",
     "checksum": "1f9913892a5ced7c52d2cd7799daec6d",
     "grade": false,
     "grade_id": "Loss_function",
     "locked": true,
     "schema_version": 3,
     "solution": false,
     "task": false
    }
   },
   "source": [
    "### Loss Function [2 points]\n",
    "\n",
    "Implement a function to compute the classification loss as defined above. The function has three input arguments: the weight vector, the feature vectors, and the labels. The binary labels are assumed to be from $\\{-1,+1\\}$. It returns the total loss (normalized with $N$, as above) associated with the input."
   ]
  },
  {
   "cell_type": "code",
   "execution_count": 5,
   "metadata": {
    "deletable": false,
    "nbgrader": {
     "cell_type": "code",
     "checksum": "94382f8bac4654f2ec503f7a29aff9b7",
     "grade": false,
     "grade_id": "ErrorRate",
     "locked": false,
     "schema_version": 3,
     "solution": true,
     "task": false
    }
   },
   "outputs": [],
   "source": [
    "def ErrorRate (w, x, y):\n",
    "    \"\"\"Compute error rate for binary linear classifier\"\"\"\n",
    "    # YOUR CODE HERE\n",
    "    N = len(y)\n",
    "    y_hat = np.sign(np.dot(x,w))\n",
    "    y_hat[y_hat<1]=-1\n",
    "    Ln_w = [int(i) for i in y != y_hat]\n",
    "    Ln_w = np.array(Ln_w)\n",
    "    return (float)(Ln_w.reshape(len(y),1).sum())/N "
   ]
  },
  {
   "cell_type": "code",
   "execution_count": 6,
   "metadata": {
    "deletable": false,
    "editable": false,
    "nbgrader": {
     "cell_type": "code",
     "checksum": "68eaf10b41a88e379a8594a965173870",
     "grade": true,
     "grade_id": "correct-ErrorRate",
     "locked": true,
     "points": 2,
     "schema_version": 3,
     "solution": false,
     "task": false
    }
   },
   "outputs": [],
   "source": [
    "\"\"\"Check that ErrorRate returns the correct output for several inputs\"\"\"\n",
    "\"\"\"(You may have to adjust the array format for inputs and output that your function expects and delivers, respectively.) )\"\"\"\n",
    "wtest1 = np.array([[1],[1],[1]])\n",
    "xtest1 = np.array([[1,2,3],[2,3,4],[4,5,6],[-1,-2,-3]])\n",
    "ytest1 = np.array([[1],[-1],[1],[-1]])\n",
    "assert np.abs(ErrorRate(wtest1,xtest1,ytest1)-0.25)<0.01 \n",
    "wtest2 = np.array([[-0.3],[0.4],[-3.0]])\n",
    "xtest2 = np.array([[0.1,-2.0,3.1],[9.3,-1.3,-0.4],[3.4,4.5,-1.6],[0.2,-2.4,-3.1]])\n",
    "ytest2 = np.array([[-1],[-1],[1],[1]])\n",
    "assert np.abs(ErrorRate(wtest2,xtest2,ytest2)-0.0)<0.01 \n",
    "wtest3 = np.array([[1.2],[-0.4],[3.0]])\n",
    "xtest3 = np.array([[0.1,-2.0,3.1],[9.3,-1.3,-0.4],[3.4,4.5,-1.6],[0.2,-2.4,-3.1],[8.1,-2.0,-1.0]])\n",
    "ytest3 = np.array([[1],[-1],[1],[1],[1]])\n",
    "assert np.abs(ErrorRate(wtest3,xtest3,ytest3)-0.6)<0.01 "
   ]
  },
  {
   "cell_type": "markdown",
   "metadata": {
    "deletable": false,
    "editable": false,
    "nbgrader": {
     "cell_type": "markdown",
     "checksum": "d94d361aa917c1620c5c91ff6796e576",
     "grade": false,
     "grade_id": "Perceptron_Learning_Algorithm",
     "locked": true,
     "schema_version": 3,
     "solution": false,
     "task": false
    }
   },
   "source": [
    "### Perceptron Learning Algorithm [10 points]\n",
    "\n",
    "Implement a function for the perceptron learning algorithm (PLA) which accepts four arguments: an inital weight vector, the data, the labels (binary $\\{-1,+1\\}$), and the maximal number of iterations it executes. It is thus a version of the PLA that is assured to terminate. The function returns the updated weight vector. \n",
    "\n",
    "**Note:** To pass the test cases, your PLA needs to select the misclassified sample to perform a model update in a deterministic manner as follows: from the training data $\\{(x_1,y_1,), (x_2,y_2), \\ldots,(x_N,y_N)\\}$ select the misclassified sample $(x_i,y_i)$ with the smallest index $i$ for the PLA update."
   ]
  },
  {
   "cell_type": "code",
   "execution_count": 7,
   "metadata": {
    "deletable": false,
    "nbgrader": {
     "cell_type": "code",
     "checksum": "7811e25feb93926aecf91c64ff531b8a",
     "grade": false,
     "grade_id": "PLA",
     "locked": false,
     "schema_version": 3,
     "solution": true,
     "task": false
    }
   },
   "outputs": [],
   "source": [
    "def PLA(w, x, y, maxIter):\n",
    "\n",
    "    # YOUR CODE HERE\n",
    "    #Initialize\n",
    "    N = len(x) #Height of the matrix\n",
    "    y_hat = np.zeros( shape = (N,1))#Create an N size matrix\n",
    "    t = 0\n",
    "    i = 0\n",
    "    x_flat = x.flatten()\n",
    "    dot_product = int(0)\n",
    "    #w = np.array([[0],[0],[0]])\n",
    "    # print(ErrorRate(w_upd[t].reshape(N_w,1),x,y))\n",
    "    if(x.ndim == 2):\n",
    "        while ( (ErrorRate(w,x,y) > 0) & (t < maxIter ) ):\n",
    "            i = 0\n",
    "            j = 0\n",
    "            while( i < N):\n",
    "                dot_product = 0\n",
    "                if(j <= len(x)):  # 0:2 3:5 6:8 9: 11\n",
    "                    dot_product = dot_product + np.dot(x[j],w)\n",
    "                    j = j + 1\n",
    "                if(dot_product > [0]):\n",
    "                    y_hat[i] = 1\n",
    "                else:\n",
    "                    y_hat[i] = -1\n",
    "\n",
    "                if ((y_hat[i] != y[i])): #misclassified sample\n",
    "                    if(y_hat[i] == [1]):\n",
    "                        w = w.T\n",
    "                        w = w - x[i]\n",
    "                        w = w.T\n",
    "                        i = N\n",
    "                    else:\n",
    "                        w = w.T\n",
    "                        w = w + x[i]\n",
    "                        w = w.T\n",
    "                        i = N\n",
    "                else:\n",
    "                    w = w\n",
    "                i = i + 1\n",
    "                \n",
    "            #print(t)\n",
    "            t = t + 1\n",
    "            #print (t) for testing\n",
    "        return w\n",
    "\n",
    "    elif(x.ndim == 3):\n",
    "        while ( (ErrorRate(w,x,y) > 0) & (t < maxIter ) ):\n",
    "            i = 0\n",
    "            while(i < N):\n",
    "                x_2d = x[i].flatten()  # x is now (1 x 784) and our w is 784 x 1\n",
    "                dot_product = np.dot(x_2d.reshape(1,len(x[0])*len(x[0])),w)\n",
    "                if(dot_product > 0):\n",
    "                    y_hat[i] = 1\n",
    "                else:\n",
    "                    y_hat[i] = -1\n",
    "                i = i + 1\n",
    "            i = 0\n",
    "            w = w.T\n",
    "            while(i < N):\n",
    "                x_2d = x[i].flatten()\n",
    "                if(y_hat[i] != y[i]):\n",
    "                    if(y_hat[i] == [1]):\n",
    "                        w = w - x_2d\n",
    "                        i = N\n",
    "                    else:\n",
    "                        w = w + x_2d\n",
    "                        i = N\n",
    "                else:\n",
    "                    i = i + 1\n",
    "            w = w.T\n",
    "            t = t + 1\n",
    "        return w"
   ]
  },
  {
   "cell_type": "code",
   "execution_count": 8,
   "metadata": {
    "deletable": false,
    "editable": false,
    "nbgrader": {
     "cell_type": "code",
     "checksum": "3f2c13bea7a787a9a0f29011a4928dc3",
     "grade": true,
     "grade_id": "correct-PLA",
     "locked": true,
     "points": 5,
     "schema_version": 3,
     "solution": false,
     "task": false
    }
   },
   "outputs": [],
   "source": [
    "\"\"\"Check that PLA returns the correct output for several inputs\"\"\"\n",
    "\"\"\"(You may have to adjust the array format for inputs and output that your function expects and delivers, respectively.)\"\"\"\n",
    "wtest1 = np.array([[1],[1],[1]])\n",
    "xtest1 = np.array([[1,2,3],[2,3,4],[4,5,6],[-1,-2,-3]])\n",
    "ytest1 = np.array([[1],[-1],[1],[-1]])\n",
    "wtest2 = np.array([[-0.3],[0.4],[-3.0]])\n",
    "xtest2 = np.array([[0.1,-2.0,3.1],[9.3,-1.3,-0.4],[3.4,4.5,-1.6],[0.2,-2.4,-3.1]])\n",
    "ytest2 = np.array([[-1],[-1],[1],[1]])\n",
    "wtest3 = np.array([[1.2],[-0.4],[3.0]])\n",
    "xtest3 = np.array([[0.1,-2.0,3.1],[9.3,-1.3,-0.4],[3.4,4.5,-1.6],[0.2,-2.4,-3.1],[8.1,-2.0,-1.0]])\n",
    "ytest3 = np.array([[1],[-1],[1],[1],[1]])\n",
    "assert np.linalg.norm(np.subtract(PLA(wtest1,xtest1,ytest1, 100),np.array([[-4],[0],[4]])))<0.01\n",
    "assert np.linalg.norm(np.subtract(PLA(wtest1,xtest2,ytest2, 100),np.array([[-4.8],[6.4],[-6.4]])))<0.01\n",
    "assert np.linalg.norm(np.subtract(PLA(wtest3,xtest3,np.array([[1],[-1],[-1],[1],[1]]), 100), np.array([[-1.],[-4.2],[-1.3]])))<0.01"
   ]
  },
  {
   "cell_type": "markdown",
   "metadata": {
    "deletable": false,
    "editable": false,
    "nbgrader": {
     "cell_type": "markdown",
     "checksum": "15b86e1a140a12fe643595e9f8358cb0",
     "grade": false,
     "grade_id": "PLA_test",
     "locked": true,
     "schema_version": 3,
     "solution": false,
     "task": false
    }
   },
   "source": [
    "Now test the `PLA` function on the data set.\n",
    "\n",
    "Test the `PLA` function by training the classifier on the training data (`trainData`, `trainTarget`) with a maximum of 100 iterations, and measuring the cassification error using the testing data (`testData`, `testTarget`). Write the test script into the box below and let it print the classification error."
   ]
  },
  {
   "cell_type": "code",
   "execution_count": 37,
   "metadata": {
    "deletable": false,
    "nbgrader": {
     "cell_type": "code",
     "checksum": "a120b57a39d41f0d90c4cda31a54e1ca",
     "grade": true,
     "grade_id": "PLA_test_code",
     "locked": false,
     "points": 5,
     "schema_version": 3,
     "solution": true,
     "task": false
    }
   },
   "outputs": [
    {
     "name": "stdout",
     "output_type": "stream",
     "text": [
      "If we don't consider x0 = 1, then the Error rate is =  0.034482758620689655\n",
      "If we consider x0 = 1, the Error rate is =  0.041379310344827586\n"
     ]
    }
   ],
   "source": [
    "# YOUR CODE HERE\n",
    "datas = loadData()\n",
    "maxIter = 100\n",
    "trainData = datas[0].reshape(3500,-1)\n",
    "testData = datas[2].reshape(145,-1)\n",
    "trainTarget = datas[3].astype(int)\n",
    "testTarget  = datas[5].astype(int) # this was making the issue ...\n",
    "\n",
    "trainTarget[trainTarget<1]=-1         \n",
    "testTarget[testTarget<1]=-1 \n",
    "\n",
    "\n",
    "w = np.zeros((len(trainData[0]),1))\n",
    "w_upd = PLA(w,trainData,trainTarget,maxIter)\n",
    "\n",
    "print(\"If we don't consider x0 = 1, then the Error rate is = \", ErrorRate(w_upd,testData,testTarget))\n",
    "\n",
    "testData = np.append(np.ones((testData.shape[0],1)),testData,axis=1) #add elements    \n",
    "trainData = np.append(np.ones((trainData.shape[0],1)),trainData,axis=1) #add elements \n",
    "\n",
    "w = np.zeros((len(trainData[0]),1))\n",
    "w_upd = PLA(w,trainData,trainTarget,maxIter)\n",
    "\n",
    "print(\"If we consider x0 = 1, the Error rate is = \" , ErrorRate(w_upd,testData,testTarget))\n"
   ]
  },
  {
   "cell_type": "markdown",
   "metadata": {
    "deletable": false,
    "editable": false,
    "nbgrader": {
     "cell_type": "markdown",
     "checksum": "8cfd4bb266d9689f4e551c9ae9e2a8ed",
     "grade": false,
     "grade_id": "Pocket",
     "locked": true,
     "schema_version": 3,
     "solution": false,
     "task": false
    }
   },
   "source": [
    "### Pocket algorithm [8 points]\n",
    "\n",
    "Implement a function for the pocket algorithm which accepts three arguments: the data, the labels (binary $\\{-1,+1\\}$), and the number of iterations it executes. It should use the function `PLA` you developed above. It returns the updated weight vector.\n",
    "\n",
    "**Note:** To pass the test cases, initialize the weight vector to the all-zero vector."
   ]
  },
  {
   "cell_type": "code",
   "execution_count": 31,
   "metadata": {
    "deletable": false,
    "nbgrader": {
     "cell_type": "code",
     "checksum": "35d855435c51392bc5aa2141a6847b92",
     "grade": false,
     "grade_id": "Pocket-algorithm",
     "locked": false,
     "schema_version": 3,
     "solution": true,
     "task": false
    }
   },
   "outputs": [],
   "source": [
    "def pocket(x, y, T):\n",
    "\n",
    "    N = len(y)\n",
    "\n",
    "    w = np.zeros( shape = (len(x[0]), 1))\n",
    "    w_hat = w\n",
    "    t = 0\n",
    "    i = 0\n",
    "    if(x.ndim == 2):\n",
    "        while(t < T):\n",
    "            w = PLA(w,x,y,1) #update w\n",
    "            E_in = ErrorRate(w, x, y)\n",
    "            #print(E_in)\n",
    "            if(E_in < ErrorRate(w_hat, x, y)): \n",
    "                w_hat = w\n",
    "            t = t + 1\n",
    "        return w_hat\n",
    "    elif(x.ndim == 3):\n",
    "        w_2 = np.zeros(shape =(len(x[0])*len(x[0]), 1))\n",
    "        w_hat_2 = w_2\n",
    "        while(t < T):\n",
    "            w_2 = PLA(w_2,x,y,1)\n",
    "            E_in = ErrorRate(w_2, x, y)\n",
    "            if(E_in < ErrorRate(w_hat_2, x, y)):\n",
    "                w_hat_2 = w_2\n",
    "                #print(\"pocket finished\")\n",
    "                return w_hat_2\n",
    "            t = t + 1\n",
    "        return w_hat_2"
   ]
  },
  {
   "cell_type": "code",
   "execution_count": 32,
   "metadata": {
    "deletable": false,
    "editable": false,
    "nbgrader": {
     "cell_type": "code",
     "checksum": "267aeecabceba9389529bfa4ac0bd85f",
     "grade": true,
     "grade_id": "Pocket-correct",
     "locked": true,
     "points": 3,
     "schema_version": 3,
     "solution": false,
     "task": false
    }
   },
   "outputs": [],
   "source": [
    "\"\"\"Check that Pocket algorithm returns the correct output for several inputs\"\"\"\n",
    "\"\"\"(You may have to adjust the array format for inputs and output that your function expects and delivers, respectively.)\"\"\"\n",
    "xtest1 = np.array([[1,2,3],[2,3,4],[4,5,6],[-1,-2,-3]])\n",
    "ytest1 = np.array([[1],[-1],[1],[-1]])\n",
    "xtest2 = np.array([[0.1,-2.0,3.1],[9.3,-1.3,-0.4],[3.4,4.5,-1.6],[0.2,-2.4,-3.1]])\n",
    "ytest2 = np.array([[-1],[-1],[1],[1]])\n",
    "xtest3 = np.array([[0.1,-2.0,3.1],[9.3,-1.3,-0.4],[3.4,4.5,-1.6],[0.2,-2.4,-3.1],[8.1,-2.0,-1.0]])\n",
    "ytest3 = np.array([[1],[-1],[1],[1],[1]])\n",
    "assert np.linalg.norm(np.subtract(pocket(xtest1,ytest1, 10),np.array([[1.], [2.],[3.]])))<0.01\n",
    "assert np.linalg.norm(np.subtract(pocket(xtest2,ytest1, 5),np.array([[-9.2],[-0.7],[3.5]])))<0.01\n",
    "assert np.linalg.norm(np.subtract(pocket(xtest3,ytest3, 5),np.array([[ 0.1],[-2.],[3.1]])))<0.01"
   ]
  },
  {
   "cell_type": "markdown",
   "metadata": {
    "deletable": false,
    "editable": false,
    "nbgrader": {
     "cell_type": "markdown",
     "checksum": "5062aecc4471bb9a43f0fab034336698",
     "grade": false,
     "grade_id": "Pocket_test",
     "locked": true,
     "schema_version": 3,
     "solution": false,
     "task": false
    }
   },
   "source": [
    "Test the `pocket` function by training the classifier on the training data `(trainData, trainTarget)` with 100 iterations, and measuring the cassification error using the testing data `(testData, testTarget)`. Write the test script into the box below and let it print the classiciation error."
   ]
  },
  {
   "cell_type": "code",
   "execution_count": 38,
   "metadata": {
    "deletable": false,
    "nbgrader": {
     "cell_type": "code",
     "checksum": "ad49f5bc97b980ac9be8f19fc809b511",
     "grade": true,
     "grade_id": "Pocket_test_code",
     "locked": false,
     "points": 3,
     "schema_version": 3,
     "solution": true,
     "task": false
    }
   },
   "outputs": [
    {
     "name": "stdout",
     "output_type": "stream",
     "text": [
      "If we don't consider x0 = 1, then the Error rate is = 0.041379310344827586\n",
      "If we consider x0 = 1, then the Error rate is = 0.027586206896551724\n"
     ]
    }
   ],
   "source": [
    "maxIter = 100\n",
    "datas = loadData()\n",
    "trainData = datas[0].reshape(3500,-1)\n",
    "testData = datas[2].reshape(145,-1)\n",
    "trainTarget = datas[3].astype(int)\n",
    "testTarget  = datas[5].astype(int)\n",
    "\n",
    "trainTarget[trainTarget<1]=-1         \n",
    "testTarget[testTarget<1]=-1 \n",
    "\n",
    "print(\"If we don't consider x0 = 1, then the Error rate is =\",ErrorRate(pocket(trainData, trainTarget, maxIter),testData,testTarget))\n",
    "\n",
    "testData = np.append(np.ones((testData.shape[0],1)),testData,axis=1) #add elements    \n",
    "trainData = np.append(np.ones((trainData.shape[0],1)),trainData,axis=1) #add elements \n",
    "\n",
    "print(\"If we consider x0 = 1, then the Error rate is =\",ErrorRate(pocket(trainData, trainTarget, maxIter),testData,testTarget))\n"
   ]
  },
  {
   "cell_type": "markdown",
   "metadata": {
    "deletable": false,
    "editable": false,
    "nbgrader": {
     "cell_type": "markdown",
     "checksum": "d10812918f61ea90aaf533e82c010294",
     "grade": false,
     "grade_id": "PLA_vs_Pocket",
     "locked": true,
     "schema_version": 3,
     "solution": false,
     "task": false
    }
   },
   "source": [
    "In the text box below, state the test error results for the PLA and pocket algorithm that you obtained. Briefly discuss if they are as you expected and why or why not."
   ]
  },
  {
   "cell_type": "markdown",
   "metadata": {
    "deletable": false,
    "nbgrader": {
     "cell_type": "markdown",
     "checksum": "08579e8a48ac13ae7992c0d6195774fa",
     "grade": true,
     "grade_id": "Discussion_PLA_vs_Pocket",
     "locked": false,
     "points": 2,
     "schema_version": 3,
     "solution": true,
     "task": false
    }
   },
   "source": [
    "I got an error rate of 0.0413 in the PLA which I was expecting this because i ran a lot of test and iterated it 100 times, and for pocket algorithm i got  0.0275 which is a better result. This was expected because pocket algorithm always looks at a better weight vector therefore, it gets a better result than PLA algorithm. Basically, it dumps worse weight vectors by checking the old error rates of weight vector(w_hat) and comparing it with current weight vector(w). This one was for using \n",
    "${x}_0 = 1$ . For ${x}_0 \\neq 1$, we will have PLA error rate = 0.0344, and pocket error rate 0.0413, this was expected because we don't assume ${x}_0 = 1$ and this makes the prediction harder for pocket function."
   ]
  },
  {
   "cell_type": "markdown",
   "metadata": {
    "deletable": false,
    "editable": false,
    "nbgrader": {
     "cell_type": "markdown",
     "checksum": "6fce9815992cbdbf3153f63725097338",
     "grade": false,
     "grade_id": "Logistic_Regression",
     "locked": true,
     "schema_version": 3,
     "solution": false,
     "task": false
    }
   },
   "source": [
    "## Logistic Regression\n",
    "\n",
    "**Note:** For classification with logistic regression, we consider that the **labels $y_n\\in\\{0,1\\}$** are used. So please write your responses and your functions accordingly.\n",
    "\n",
    "The second classifier we consider is logistic regression.  Logistic regression computes the probability measure\n",
    "$$\\hat{y}=\\theta(\\underline{w}^T\\underline{x})$$\n",
    "for a feature vector $\\underline{x}$, where $\\theta(z)=\\mathrm{e}^s/(1+\\mathrm{e}^s)$ is the logistic function, and $\\hat{y}$ is interpretated as $\\Pr(y=1)$. Given $N$ data samples $\\underline{x}_n$ and labels $y_n$, the error measure for logistic regression is the binary cross-entropy loss \n",
    "$$L(\\underline{w})=\\frac{1}{N}\\sum\\limits_{n=1}^N\\left[-y_n\\log\\left(\\hat{y}(\\underline{x}_n)\\right)-(1-y_n)\\log\\left(1-\\hat{y}(\\underline{x}_n)\\right)\\right]\\;.$$\n",
    "For the following, you will consider the regularized loss function\n",
    "$$L_\\lambda(\\underline{w})=\\frac{1}{N}\\sum\\limits_{n=1}^N\\left[-y_n\\log\\left(\\hat{y}(\\underline{x}_n)\\right)-(1-y_n)\\log\\left(1-\\hat{y}(\\underline{x}_n)\\right)\\right]+\\frac{\\lambda}{2}\\|\\underline{w}\\|_2^2$$\n",
    "with the regularization parameter $\\lambda \\ge 0$. \n",
    "\n",
    "The training of the weight vector $\\underline{w}$ will be performed through batch gradient descent. \n"
   ]
  },
  {
   "cell_type": "markdown",
   "metadata": {
    "deletable": false,
    "editable": false,
    "nbgrader": {
     "cell_type": "markdown",
     "checksum": "a9b01e6026f02c97dee8cd141885a529",
     "grade": false,
     "grade_id": "Loss_function_lr",
     "locked": true,
     "schema_version": 3,
     "solution": false,
     "task": false
    }
   },
   "source": [
    "# Loss function [2 points]\n",
    "\n",
    "Implement a function to compute the regularized cross-entropy loss as defined above. The function has four input arguments: the weight vector, the feature vectors, the labels (binary $\\{0,1\\}$), and the regularization parameter. It returns the regularized loss."
   ]
  },
  {
   "cell_type": "code",
   "execution_count": 10,
   "metadata": {
    "deletable": false,
    "nbgrader": {
     "cell_type": "code",
     "checksum": "569a4bc56f7da0631a599b0c90cbe403",
     "grade": false,
     "grade_id": "CrossEntropyLoss",
     "locked": false,
     "schema_version": 3,
     "solution": true,
     "task": false
    }
   },
   "outputs": [],
   "source": [
    "def sigmoid(x):\n",
    "    return (1/(1+np.exp(-x)))\n",
    "\n",
    "def crossEntropyLoss(w, x, y, reg):\n",
    "    N = len(y)\n",
    "    x_flat = x.flatten()\n",
    "    y_hat = np.zeros( shape = (N,1))#Create an N size matrix\n",
    "    sum = 0\n",
    "    dot_product = 0\n",
    "    j = 0\n",
    "    i = 0\n",
    "    if(x.ndim == 2):\n",
    "        while(i < N):\n",
    "            dot_product = 0\n",
    "            if(j <= len(x)):  # 0:2 3:5 6:8 9: 11\n",
    "                dot_product = dot_product + np.dot(x[j],w)\n",
    "                j = j + 1\n",
    "\n",
    "            y_hat[i] = sigmoid(dot_product)\n",
    "            sum = sum + -y[i]*np.log(y_hat[i]) - (1-y[i])*np.log(1- y_hat[i])\n",
    "            i = i + 1\n",
    "\n",
    "        return float(1/N)*float(sum) + float(reg/2)*np.linalg.norm(w)**2     "
   ]
  },
  {
   "cell_type": "code",
   "execution_count": 11,
   "metadata": {
    "deletable": false,
    "editable": false,
    "nbgrader": {
     "cell_type": "code",
     "checksum": "a181689b41b6c6e955331205aed5258e",
     "grade": true,
     "grade_id": "CrossEntropyLoss-correct",
     "locked": true,
     "points": 2,
     "schema_version": 3,
     "solution": false,
     "task": false
    }
   },
   "outputs": [],
   "source": [
    "\"\"\"Check that CrossEntropyLoss returns the correct output for several inputs\"\"\"\n",
    "\"\"\"(You may have to adjust the array format for inputs and output that your function expects and delivers, respectively.)\"\"\"\n",
    "wtest1 = np.array([[1],[1],[1]])\n",
    "xtest1 = np.array([[1,2,3],[2,3,4],[4,5,6],[-1,-2,-3]])\n",
    "ytest1 = np.array([[1],[0],[1],[0]])\n",
    "wtest2 = np.array([[-0.3],[0.4],[-3.0]])\n",
    "xtest2 = np.array([[0.1,-2.0,3.1],[9.3,-1.3,-0.4],[3.4,4.5,-1.6],[0.2,-2.4,-3.1]])\n",
    "ytest2 = np.array([[0],[0],[1],[1]])\n",
    "wtest3 = np.array([[1.2],[-0.4],[3.0]])\n",
    "xtest3 = np.array([[0.1,-2.0,3.1],[9.3,-1.3,-0.4],[3.4,4.5,-1.6],[0.2,-2.4,-3.1],[8.1,-2.0,-1.0]])\n",
    "ytest3 = np.array([[1],[0],[1],[1],[1]])\n",
    "assert np.abs(crossEntropyLoss(wtest1,xtest1,ytest1,reg=0.0)-2.25)<0.01 \n",
    "assert np.abs(crossEntropyLoss(wtest2,xtest2,ytest2,reg=0.1)-0.49)<0.01 \n",
    "assert np.abs(crossEntropyLoss(wtest3,xtest3,ytest3,reg=0.1)-4.77)<0.01 "
   ]
  },
  {
   "cell_type": "markdown",
   "metadata": {
    "deletable": false,
    "editable": false,
    "nbgrader": {
     "cell_type": "markdown",
     "checksum": "69192297cd70b1359d0bdaca81a30b15",
     "grade": false,
     "grade_id": "Gradient",
     "locked": true,
     "schema_version": 3,
     "solution": false,
     "task": false
    }
   },
   "source": [
    "### Gradient [4 points]\n",
    "\n",
    "In the text box below, provide an analytical expression for the gradient of the regularized cross-entropy loss with respect to the weight vector. Note that the labels $y_n\\in\\{0,1\\}$."
   ]
  },
  {
   "cell_type": "markdown",
   "metadata": {
    "deletable": false,
    "nbgrader": {
     "cell_type": "markdown",
     "checksum": "f940cb03d538ba8d06659dc95003ea03",
     "grade": true,
     "grade_id": "Gradient_expression",
     "locked": false,
     "points": 2,
     "schema_version": 3,
     "solution": true,
     "task": false
    }
   },
   "source": [
    "We know that: \n",
    "$$\\hat{y}=\\theta(\\underline{w}^T\\underline{x})$$\n",
    "from this equation we see the relationship of weight vector with ${y}_n$, and following equation satisfies that $y_n\\in\\{0,1\\}$.\n",
    "\n",
    "$$\\theta(z)=\\mathrm{e}^s/(1+\\mathrm{e}^s)$$\n",
    "From the equation below: \n",
    "$$L_\\lambda(\\underline{w})=\\frac{1}{N}\\sum\\limits_{n=1}^N\\left[-y_n\\log\\left(\\hat{y}(\\underline{x}_n)\\right)-(1-y_n)\\log\\left(1-\\hat{y}(\\underline{x}_n)\\right)\\right]+\\frac{\\lambda}{2}\\|\\underline{w}\\|_2^2$$\n",
    "The gradient of the above equation will be: \n",
    "$$\\nabla L_\\lambda(\\underline{w})=\\frac{\\partial L_\\lambda(\\underline{w})}{\\partial \\underline{w}}=\\frac{1}{N}\\sum\\limits_{n=1}^N\\left[\\underline{x}_n\\left(\\theta\\left(\\underline{w}^T\\underline{x}_n\\right)-y_n\\right)\\right]+\\lambda\\underline{w}$$\n",
    "Hence this will be the equation to compute the $\\nabla L_\\lambda(\\underline{w})$."
   ]
  },
  {
   "cell_type": "markdown",
   "metadata": {
    "deletable": false,
    "editable": false,
    "nbgrader": {
     "cell_type": "markdown",
     "checksum": "54fc8b27e63b7fbda2e854b512b09380",
     "grade": false,
     "grade_id": "Gradient_implement",
     "locked": true,
     "schema_version": 3,
     "solution": false,
     "task": false
    }
   },
   "source": [
    "Implement a function to compute the gradient. The function has four input arguments: the weight vector, the feature vectors, the labels (binary $\\{0,1\\}$), and see the test cases below for the array format) and the regularization parameter. It returns the gradient."
   ]
  },
  {
   "cell_type": "code",
   "execution_count": 12,
   "metadata": {
    "deletable": false,
    "nbgrader": {
     "cell_type": "code",
     "checksum": "0699ec9ddbd0084e5aafe64ad31be8ff",
     "grade": false,
     "grade_id": "Gradient_code",
     "locked": false,
     "schema_version": 3,
     "solution": true,
     "task": false
    }
   },
   "outputs": [],
   "source": [
    "def gradCE(w, x, y, reg):\n",
    "    N = len(y)\n",
    "    if(x.ndim == 2):\n",
    "        y_hat = sigmoid(np.dot(x,w))\n",
    "        y_hat = y_hat - y\n",
    "        gradCE_val = ((np.dot(x.T,y_hat))/N)+(reg*w)\n",
    "        return gradCE_val\n",
    "    elif(x.ndim == 3):\n",
    "        y_hat = sigmoid(np.dot(x,w))\n",
    "        y_hat = y_hat - y\n",
    "        gradCE_val = ((np.dot(x.T,y_hat))/N)+(reg*w)\n",
    "        return gradCE_val"
   ]
  },
  {
   "cell_type": "code",
   "execution_count": 13,
   "metadata": {
    "deletable": false,
    "editable": false,
    "nbgrader": {
     "cell_type": "code",
     "checksum": "a8486cded118842f54dc5c9c3e09505c",
     "grade": true,
     "grade_id": "Gradient_code-correct",
     "locked": true,
     "points": 2,
     "schema_version": 3,
     "solution": false,
     "task": false
    }
   },
   "outputs": [],
   "source": [
    "\"\"\"Check that gradeCE returns the correct output for several inputs\"\"\"\n",
    "\"\"\"(You may have to adjust the array format for inputs and output that your function expects and delivers, respectively.)\"\"\"\n",
    "wtest1 = np.array([[1],[1],[1]])\n",
    "xtest1 = np.array([[1,2,3],[2,3,4],[4,5,6],[-1,-2,-3]])\n",
    "ytest1 = np.array([[1],[0],[1],[0]])\n",
    "wtest2 = np.array([[-0.3],[0.4],[-3.0]])\n",
    "xtest2 = np.array([[0.1,-2.0,3.1],[9.3,-1.3,-0.4],[3.4,4.5,-1.6],[0.2,-2.4,-3.1]])\n",
    "ytest2 = np.array([[0],[0],[1],[1]])\n",
    "wtest3 = np.array([[1.2],[-0.4],[3.0]])\n",
    "xtest3 = np.array([[0.1,-2.0,3.1],[9.3,-1.3,-0.4],[3.4,4.5,-1.6],[0.2,-2.4,-3.1],[8.1,-2.0,-1.0]])\n",
    "ytest3 = np.array([[1],[0],[1],[1],[1]])\n",
    "assert np.linalg.norm(np.subtract(gradCE(wtest1,xtest1,ytest1,reg=0),np.array([[0.50],[0.75],[1.0]])))<0.01\n",
    "assert np.linalg.norm(np.subtract(gradCE(wtest2,xtest2,ytest2,reg=1),np.array([[-0.05],[0.36],[-3.01]])))<0.01\n",
    "assert np.linalg.norm(np.subtract(gradCE(wtest3,xtest3,ytest3,reg=1),np.array([[2.39],[-1.01],[3.84]])))<0.01"
   ]
  },
  {
   "cell_type": "markdown",
   "metadata": {
    "deletable": false,
    "editable": false,
    "nbgrader": {
     "cell_type": "markdown",
     "checksum": "91511ba4db2e39b86f4d4e7da9e9ca5d",
     "grade": false,
     "grade_id": "Gradient_descent",
     "locked": true,
     "schema_version": 3,
     "solution": false,
     "task": false
    }
   },
   "source": [
    "### Gradient Descent Implementation [3 points]\n",
    "Using the gradient and cross-entropy loss function above, implement the batch gradient descent algorithm. The function should accept seven arguments: the weight vector, the feature vectors, the labels (binary $\\{0,1\\}$), the learning rate, the number of epochs, the regularization parameter, and an error tolerance (set to $10^{-7}$ for the experiments). The error tolerance will be used to terminate the gradient descent early, if the difference (i.e., its 2-norm) between the old and updated weights after one iteration is below the error tolerance. The function should return the optimized weight vector and the training loss. "
   ]
  },
  {
   "cell_type": "code",
   "execution_count": 19,
   "metadata": {
    "deletable": false,
    "nbgrader": {
     "cell_type": "code",
     "checksum": "1fa0d0f04a42710ba51901de84eb97b7",
     "grade": true,
     "grade_id": "Gradient_descent_code",
     "locked": false,
     "points": 3,
     "schema_version": 3,
     "solution": true,
     "task": false
    }
   },
   "outputs": [],
   "source": [
    "def grad_descent(w, x, y, eta, iterations, reg, error_tol):\n",
    "    # YOUR CODE HERE\n",
    "    loss = list()\n",
    "    t = 0 \n",
    "    while ( t < iterations):\n",
    "        gradCE_val = gradCE(w,x,y,reg)\n",
    "        w_hat = w #w(t)\n",
    "        #step size\n",
    "        step = -(gradCE_val/(np.linalg.norm(gradCE_val,2)))\n",
    "        w = w + eta*step\n",
    "        \n",
    "        loss.append(crossEntropyLoss(w, x, y, reg))\n",
    "        if (np.linalg.norm(w_hat-w,2) < error_tol):\n",
    "            return w, loss\n",
    "        #print(\"Iteration is : \", t )\n",
    "        #print(t)\n",
    "        t = t + 1\n",
    "        \n",
    "    return w, loss\n",
    "    "
   ]
  },
  {
   "cell_type": "markdown",
   "metadata": {
    "deletable": false,
    "editable": false,
    "nbgrader": {
     "cell_type": "markdown",
     "checksum": "a699411ecf32b1d1b9c08abc5b470116",
     "grade": false,
     "grade_id": "Tuning",
     "locked": true,
     "schema_version": 3,
     "solution": false,
     "task": false
    }
   },
   "source": [
    "## Tuning the Learning Rate [4 Points]: \n",
    "Write a script that excutes logistic regression using the gradient descent function from above to classify the two classes in the notMNIST dataset, loaded with the  `loadData` function. \n",
    "\n",
    "Set the number of epochs to $2,000$ and use the regularization parameter $\\lambda=0$. \n",
    "\n",
    "For the learning rate, consider $\\eta=5\\cdot 10^{-3},\\,10^{-3},\\,10^{-4}$.\n",
    "\n",
    "Train the classifier on the training data (`trainData, trainTarget`).\n",
    "\n",
    "The script should plot the training loss as a function of the number of training epochs."
   ]
  },
  {
   "cell_type": "code",
   "execution_count": 20,
   "metadata": {
    "deletable": false,
    "nbgrader": {
     "cell_type": "code",
     "checksum": "50fce52cb17a97fb4b74037dade5e7f8",
     "grade": true,
     "grade_id": "Test_Gradient_Descent",
     "locked": false,
     "points": 3,
     "schema_version": 3,
     "solution": true,
     "task": false
    }
   },
   "outputs": [
    {
     "name": "stdout",
     "output_type": "stream",
     "text": [
      " Learning rate 1 is done\n",
      " Learning rate 2 is done\n",
      " Learning rate 3 is done\n"
     ]
    },
    {
     "data": {
      "image/png": "[encoded data removed]",
      "text/plain": [
       "<Figure size 432x288 with 1 Axes>"
      ]
     },
     "metadata": {
      "needs_background": "light"
     },
     "output_type": "display_data"
    }
   ],
   "source": [
    "datas = loadData()\n",
    "trainTarget = datas[3].astype(int)\n",
    "testTarget = datas[5].astype(int) # caused issues for some reason\n",
    "\n",
    "trainData = datas[0].reshape(3500,-1)\n",
    "trainData = np.append(np.ones((trainData.shape[0],1)),trainData,axis=1) #add 1's to axis 1\n",
    "testData = datas[2].reshape(145,-1)\n",
    "testData = np.append(np.ones((testData.shape[0],1)),testData,axis=1) #add 1's to axis 1\n",
    "\n",
    "\n",
    "w = np.zeros((trainData.shape[1],1))\n",
    "\n",
    "#epochs\n",
    "epochs = 2000\n",
    "\n",
    "#reg\n",
    "reg = 0 \n",
    "#eta values -- learning rate\n",
    "eta_1 = 0.005\n",
    "eta_2 = 0.001 \n",
    "eta_3 = 0.0001 \n",
    "\n",
    "#error tol\n",
    "error_tol = 0.0000001  # 10^-7\n",
    "\n",
    "# learning rates\n",
    "lng_1 = grad_descent(w, trainData, trainTarget, eta_1, epochs, reg, error_tol)\n",
    "print(\" Learning rate 1 is done\")\n",
    "lng_2 = grad_descent(w, trainData, trainTarget, eta_2, epochs, reg, error_tol)\n",
    "print(\" Learning rate 2 is done\")\n",
    "lng_3 = grad_descent(w, trainData, trainTarget, eta_3, epochs, reg, error_tol)\n",
    "print(\" Learning rate 3 is done\")\n",
    "\n",
    "#Plotting loss\n",
    "plt.plot(lng_1[1], \"-y\", label = \"eta = 0.005\")\n",
    "plt.plot(lng_2[1], \"-b\", label = \"eta = 0.001\")\n",
    "plt.plot(lng_3[1], \"-r\", label = \"eta = 0.0001\")\n",
    "\n",
    "#to clarify which plot is which data\n",
    "plt.legend()\n",
    "\n",
    "plt.ylabel(\"Cross Entropy Loss\")\n",
    "plt.xlabel(\"number of epochs\")\n",
    "\n",
    "plt.show() #show the plot that is generated\n"
   ]
  },
  {
   "cell_type": "markdown",
   "metadata": {
    "deletable": false,
    "editable": false,
    "nbgrader": {
     "cell_type": "markdown",
     "checksum": "2791726addc34f949dea41ae76193044",
     "grade": false,
     "grade_id": "Learning_rate",
     "locked": true,
     "schema_version": 3,
     "solution": false,
     "task": false
    }
   },
   "source": [
    "In the text box below, briefly discuss the impact of the learning rate $\\eta$ on the training time. "
   ]
  },
  {
   "cell_type": "markdown",
   "metadata": {
    "deletable": false,
    "nbgrader": {
     "cell_type": "markdown",
     "checksum": "f4e28efe96b79bed70627e2ea0eabeb9",
     "grade": true,
     "grade_id": "Learning_rate_discussion",
     "locked": false,
     "points": 1,
     "schema_version": 3,
     "solution": true,
     "task": false
    }
   },
   "source": [
    "### MY ANSWER:\n",
    "If $\\eta$ is large from the graph we can see that we are getting more steep graph, this is good because $\\eta$ means step size in the GD algorithm, and when $\\eta$ is large it helps us to get the Cross Entropy Loss quickly therefore, we would like to have a large $\\eta$. If we are having a small $\\eta$ it is hard to predict the Cross Entropy Loss, and it is not desired. Therefore, we would like to have a large $\\eta$ ."
   ]
  },
  {
   "cell_type": "markdown",
   "metadata": {
    "deletable": false,
    "editable": false,
    "nbgrader": {
     "cell_type": "markdown",
     "checksum": "d53d09ea57cafcea4cfac2f5055ab922",
     "grade": false,
     "grade_id": "Generalization",
     "locked": true,
     "schema_version": 3,
     "solution": false,
     "task": false
    }
   },
   "source": [
    "### Generalization [3 points]:\n",
    "Fix the learning rate to $\\eta=0.005$, and consider values for the regularization parameter $\\lambda = 0.001,\\, 0.01,\\, 0.1$. Measure the classification error using the validation and test sets and state them in your answer in the text box below. Comment on the effect of regularization on performance as well as the rationale behind tuning $\\lambda$ using the validation set."
   ]
  },
  {
   "cell_type": "code",
   "execution_count": 21,
   "metadata": {
    "deletable": false,
    "nbgrader": {
     "cell_type": "code",
     "checksum": "f872837599eb156bbf8f47296f33e4f7",
     "grade": true,
     "grade_id": "Generalization_code",
     "locked": false,
     "points": 0,
     "schema_version": 3,
     "solution": true,
     "task": false
    }
   },
   "outputs": [
    {
     "name": "stdout",
     "output_type": "stream",
     "text": [
      "0.001 error is (for test set) =  0.006524973881526034\n",
      "0.01 error is (for test set) =  0.029363729230038084\n",
      "0.1 error is (for test set) =  0.09923872992128321\n",
      "0.001 error is (for valid set) =  0.0044348798499092455\n",
      "0.01 error is (for valid set) =  0.022218118317032014\n",
      "0.1 error is (for valid set) =  0.08743788396185392\n"
     ]
    }
   ],
   "source": [
    "\"\"\" Here you can write your code for the generalization test\"\"\"\n",
    "# YOUR CODE HERE\n",
    "datas = loadData()\n",
    "trainTarget = datas[3].astype(int)\n",
    "testTarget = datas[5].astype(int)\n",
    "testData = datas[2].reshape(145, -1)\n",
    "trainData = datas[0].reshape(3500, -1)\n",
    "validTarget = datas[4].astype(int)\n",
    "validData = datas[1].reshape(100, -1)\n",
    "\n",
    "validData = np.append(np.ones((validData.shape[0],1)),validData,axis=1) #we will need this for validation tes\n",
    "trainData = np.append(np.ones((trainData.shape[0],1)),trainData,axis=1)\n",
    "testData  = np.append(np.ones((testData.shape[0],1)),testData,axis=1)\n",
    "\n",
    "#initialize\n",
    "w = np.zeros((trainData.shape[1],1))\n",
    "\n",
    "#epochs\n",
    "epochs = 2000\n",
    "\n",
    "#eta\n",
    "eta = 0.005\n",
    "\n",
    "#reg values\n",
    "reg_1 = 0.001\n",
    "reg_2 = 0.01\n",
    "reg_3 = 0.1\n",
    "\n",
    "#error tolerance\n",
    "error_tol = 0.0000001\n",
    "\n",
    "lng_1 = grad_descent(w, testData, testTarget, eta, epochs, reg_1, error_tol)\n",
    "lng_2 = grad_descent(w, testData, testTarget, eta, epochs, reg_2, error_tol)\n",
    "lng_3 = grad_descent(w, testData, testTarget, eta, epochs, reg_3, error_tol)\n",
    "\n",
    "print(\"0.001 error is (for test set) = \", crossEntropyLoss(lng_1[0],testData,testTarget,reg_1))\n",
    "print(\"0.01 error is (for test set) = \", crossEntropyLoss(lng_2[0],testData,testTarget,reg_2))\n",
    "print(\"0.1 error is (for test set) = \", crossEntropyLoss(lng_3[0],testData,testTarget,reg_3))\n",
    "\n",
    "lng_1 = grad_descent(w, validData, validTarget, eta, epochs, reg_1, error_tol)\n",
    "lng_2 = grad_descent(w, validData, validTarget, eta, epochs, reg_2, error_tol)\n",
    "lng_3 = grad_descent(w, validData, validTarget, eta, epochs, reg_3, error_tol)\n",
    "\n",
    "print(\"0.001 error is (for valid set) = \", crossEntropyLoss(lng_1[0],validData,validTarget,reg_1))\n",
    "print(\"0.01 error is (for valid set) = \", crossEntropyLoss(lng_2[0],validData,validTarget,reg_2))\n",
    "print(\"0.1 error is (for valid set) = \", crossEntropyLoss(lng_3[0],validData,validTarget,reg_3))\n"
   ]
  },
  {
   "cell_type": "markdown",
   "metadata": {
    "deletable": false,
    "nbgrader": {
     "cell_type": "markdown",
     "checksum": "1bddd8b3fab681b640ae60bf60d797b4",
     "grade": true,
     "grade_id": "Generalization_results",
     "locked": false,
     "points": 3,
     "schema_version": 3,
     "solution": true,
     "task": false
    }
   },
   "source": [
    "### Effect of Regularization Parameter on Performance\n",
    "\n",
    "$\\lambda$ is used to control the differences between C Entropy Loss over different data sets. The best $\\lambda$ to choose is $\\lambda$ = 0.001 because, the Cross Entropy Losses seems to be equally distributed, and they are seem to be lower than different $\\lambda$ parameter values.\n",
    "\n",
    "Rationale behind using $\\lambda$ in validation model is that, since the validation model does not have training model data, we don't know how to measure different parameters for it. So to get these parameters such as $\\lambda$, we can try different combinations of different parameters to obtain a better result."
   ]
  }
 ],
 "metadata": {
  "kernelspec": {
   "display_name": "Python 3",
   "language": "python",
   "name": "python3"
  },
  "language_info": {
   "codemirror_mode": {
    "name": "ipython",
    "version": 3
   },
   "file_extension": ".py",
   "mimetype": "text/x-python",
   "name": "python",
   "nbconvert_exporter": "python",
   "pygments_lexer": "ipython3",
   "version": "3.7.3"
  }
 },
 "nbformat": 4,
 "nbformat_minor": 2
}
